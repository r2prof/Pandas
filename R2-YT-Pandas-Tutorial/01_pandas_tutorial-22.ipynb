{
 "cells": [
  {
   "cell_type": "markdown",
   "id": "a32d9a10-ae89-4eeb-bcac-4989f7b50696",
   "metadata": {},
   "source": [
    "# Pandas Tutorial"
   ]
  },
  {
   "cell_type": "markdown",
   "id": "ccff38ee-2d17-46b7-8a77-bc623a135fce",
   "metadata": {},
   "source": [
    "### 1. how to import pandas library?"
   ]
  },
  {
   "cell_type": "code",
   "execution_count": null,
   "id": "cfc4bfdf-360b-45a8-a67d-107f1d86f7df",
   "metadata": {
    "tags": []
   },
   "outputs": [],
   "source": [
    "import pandas"
   ]
  },
  {
   "cell_type": "markdown",
   "id": "7c4f812b-9d9e-4e53-8d32-6c8871f37c7d",
   "metadata": {},
   "source": [
    "### 2. how to check pandas version?"
   ]
  },
  {
   "cell_type": "code",
   "execution_count": null,
   "id": "cc211900-60df-4352-bd46-77f87aad58ff",
   "metadata": {
    "tags": []
   },
   "outputs": [],
   "source": [
    "pandas.__version__"
   ]
  },
  {
   "cell_type": "markdown",
   "id": "9558e3e4-14f9-4c52-991d-f5d144e1f535",
   "metadata": {},
   "source": [
    "### 3. how to use pandas?"
   ]
  },
  {
   "cell_type": "code",
   "execution_count": null,
   "id": "5d16fef1-82e5-4fd8-a04e-535071408214",
   "metadata": {
    "tags": []
   },
   "outputs": [],
   "source": [
    "import pandas as pd"
   ]
  },
  {
   "cell_type": "markdown",
   "id": "4f64e6cf-41bf-4009-8624-6e167272b2cc",
   "metadata": {},
   "source": [
    "### 4. how to import data from a csv file?"
   ]
  },
  {
   "cell_type": "markdown",
   "id": "9e416fe2-cc05-4e99-8c60-51e017c60686",
   "metadata": {},
   "source": [
    "#### *read_csv()*"
   ]
  },
  {
   "cell_type": "code",
   "execution_count": null,
   "id": "8e4094da-341c-43ce-bd16-616342a17749",
   "metadata": {
    "tags": []
   },
   "outputs": [],
   "source": [
    "df = pd.read_csv('olympics.csv')"
   ]
  },
  {
   "cell_type": "markdown",
   "id": "ce228e5f-2787-4929-bd3b-03c8038d56b2",
   "metadata": {},
   "source": [
    "### 5. how to access the data frame?"
   ]
  },
  {
   "cell_type": "code",
   "execution_count": null,
   "id": "fb045e2c-d739-4bab-98cf-93682eeae1c6",
   "metadata": {
    "tags": []
   },
   "outputs": [],
   "source": [
    "df"
   ]
  },
  {
   "cell_type": "markdown",
   "id": "cb0983b0-a1bf-4c26-a3c9-dbaf1d1d8db4",
   "metadata": {},
   "source": [
    "### 6. how to get the info about data?"
   ]
  },
  {
   "cell_type": "markdown",
   "id": "d678828d-3f68-47d8-b38f-c69f8eef8efa",
   "metadata": {},
   "source": [
    "#### *.info()*; *.shape()*"
   ]
  },
  {
   "cell_type": "code",
   "execution_count": null,
   "id": "d0477985-e3ac-4aaf-abf5-89f577f66f58",
   "metadata": {
    "tags": []
   },
   "outputs": [],
   "source": [
    "df.info()"
   ]
  },
  {
   "cell_type": "code",
   "execution_count": null,
   "id": "cfe7c32d-ab1b-493c-b2be-b573a78f1454",
   "metadata": {
    "tags": []
   },
   "outputs": [],
   "source": [
    "df.shape"
   ]
  },
  {
   "cell_type": "code",
   "execution_count": null,
   "id": "d2eb13b9-6293-46d0-9f7d-d848b9c275d4",
   "metadata": {
    "tags": []
   },
   "outputs": [],
   "source": [
    "df.shape[0]"
   ]
  },
  {
   "cell_type": "code",
   "execution_count": null,
   "id": "89bc889b-6e9d-4301-9f77-a90763039af5",
   "metadata": {
    "tags": []
   },
   "outputs": [],
   "source": [
    "df.shape[1]"
   ]
  },
  {
   "cell_type": "markdown",
   "id": "5c6fcf0b-252f-4cec-a3e9-36678965d256",
   "metadata": {},
   "source": [
    "### 7. how to list few data instances?"
   ]
  },
  {
   "cell_type": "markdown",
   "id": "74b9951e-9a5e-4e18-910a-90a9c5edf112",
   "metadata": {
    "tags": []
   },
   "source": [
    "#### *.head()*; *tail()*"
   ]
  },
  {
   "cell_type": "code",
   "execution_count": null,
   "id": "d62550ae-eba4-4c93-8ae0-1c73cf1d923c",
   "metadata": {
    "tags": []
   },
   "outputs": [],
   "source": [
    "df.head()"
   ]
  },
  {
   "cell_type": "code",
   "execution_count": null,
   "id": "658e6fd9-0ea4-4501-9030-791347eedbb2",
   "metadata": {
    "tags": []
   },
   "outputs": [],
   "source": [
    "df.tail(3)"
   ]
  },
  {
   "cell_type": "markdown",
   "id": "1540ffa9-6626-465f-895a-08b3b0aee01e",
   "metadata": {},
   "source": [
    "### 8. how to check the data type?"
   ]
  },
  {
   "cell_type": "markdown",
   "id": "5c29a09a-9110-4657-8b47-833a36e72362",
   "metadata": {},
   "source": [
    "#### *type()*"
   ]
  },
  {
   "cell_type": "code",
   "execution_count": null,
   "id": "fc64e835-6789-449e-8126-b73f9fb71c4d",
   "metadata": {
    "tags": []
   },
   "outputs": [],
   "source": [
    "type(df)"
   ]
  },
  {
   "cell_type": "code",
   "execution_count": null,
   "id": "6d9e9373-ea35-4914-bf7f-b6a56577b1b8",
   "metadata": {
    "tags": []
   },
   "outputs": [],
   "source": [
    "type(df.city)"
   ]
  },
  {
   "cell_type": "markdown",
   "id": "cd0d9ded-3422-4a61-a00f-404db39b56b7",
   "metadata": {},
   "source": [
    "### 9. how to access columns/series using [...]?"
   ]
  },
  {
   "cell_type": "code",
   "execution_count": null,
   "id": "3d0c9aee-d29a-489c-8c36-c8964733ef71",
   "metadata": {
    "tags": []
   },
   "outputs": [],
   "source": [
    "df['athlete']"
   ]
  },
  {
   "cell_type": "markdown",
   "id": "b41bfeca-e827-40fa-bd53-c85464d7842f",
   "metadata": {},
   "source": [
    "### 10. how to access columns/series using dot notation?"
   ]
  },
  {
   "cell_type": "code",
   "execution_count": null,
   "id": "cd0fd76b-13e8-465b-a138-853ac7b2d19d",
   "metadata": {
    "tags": []
   },
   "outputs": [],
   "source": [
    "df.athlete"
   ]
  },
  {
   "cell_type": "markdown",
   "id": "004e5d87-bd62-4de7-9e73-9fb729ac82e8",
   "metadata": {},
   "source": [
    "### 11. how to access multiple columns?"
   ]
  },
  {
   "cell_type": "code",
   "execution_count": null,
   "id": "30349cd2-8885-4c5c-a30c-d9819bcbd77e",
   "metadata": {
    "tags": []
   },
   "outputs": [],
   "source": [
    "df[['city','NOC','athlete']]"
   ]
  },
  {
   "cell_type": "code",
   "execution_count": null,
   "id": "916f9723",
   "metadata": {},
   "outputs": [],
   "source": [
    "type(df[['city','sport','athlete']])"
   ]
  },
  {
   "cell_type": "markdown",
   "id": "0aaa59b4-f87e-4e81-b091-006e2ce11890",
   "metadata": {},
   "source": [
    "### 12. how to obtain the frequency of unique values in a series?"
   ]
  },
  {
   "cell_type": "markdown",
   "id": "0141464c-5e84-44a8-a840-1913ec7a7528",
   "metadata": {},
   "source": [
    "### *.value_counts()*"
   ]
  },
  {
   "cell_type": "code",
   "execution_count": null,
   "id": "9a796c7d-5187-417d-a028-1cf11d76fe5b",
   "metadata": {
    "tags": []
   },
   "outputs": [],
   "source": [
    "df.athlete.value_counts()"
   ]
  },
  {
   "cell_type": "code",
   "execution_count": null,
   "id": "ec74691e-7105-4a1f-a2be-a6401b045083",
   "metadata": {
    "tags": []
   },
   "outputs": [],
   "source": [
    "df.gender.value_counts(ascending = True, dropna = False)"
   ]
  },
  {
   "cell_type": "markdown",
   "id": "fe05d5ab-6215-4908-b584-5c360a92c64f",
   "metadata": {
    "tags": []
   },
   "source": [
    "### 13. how to sort a data frame or a series along either axis?"
   ]
  },
  {
   "cell_type": "markdown",
   "id": "d1f38693-7feb-4e76-b5b1-355cb1e212c7",
   "metadata": {},
   "source": [
    "### *.sort_values()*; *axis=0 (rows):*; *axis=1 (columns):*"
   ]
  },
  {
   "cell_type": "code",
   "execution_count": null,
   "id": "b8424973-19c5-4174-8f92-2e996229124d",
   "metadata": {
    "tags": []
   },
   "outputs": [],
   "source": [
    "athlete = df.athlete.sort_values()\n",
    "athlete"
   ]
  },
  {
   "cell_type": "code",
   "execution_count": null,
   "id": "64d90e36-03a8-42d2-bbc1-db00437d32c3",
   "metadata": {
    "tags": []
   },
   "outputs": [],
   "source": [
    "df.sort_values(by = ['NOC','athlete'])"
   ]
  },
  {
   "cell_type": "markdown",
   "id": "16ee5467-f627-4961-b170-804659bba983",
   "metadata": {},
   "source": [
    "### 14. how to use indexing?"
   ]
  },
  {
   "cell_type": "code",
   "execution_count": null,
   "id": "6fc2f94d-b2ef-4cd4-8c6b-66084d6f778d",
   "metadata": {
    "tags": []
   },
   "outputs": [],
   "source": [
    "# In pandas, the index attribute represents the index (row labels) of a DataFrame \n",
    "# or Series. You can access it directly using the index attribute."
   ]
  },
  {
   "cell_type": "markdown",
   "id": "133c2378-b259-49b4-8008-64277dbc2947",
   "metadata": {},
   "source": [
    "### *set_index() to set a DataFrame's index with a specific column.*"
   ]
  },
  {
   "cell_type": "code",
   "execution_count": null,
   "id": "adb63906-0f87-406a-8f6d-d8a99c5b1314",
   "metadata": {
    "tags": []
   },
   "outputs": [],
   "source": [
    "df.set_index('athlete')"
   ]
  },
  {
   "cell_type": "code",
   "execution_count": null,
   "id": "6e4dfb72-ca64-452d-8dcb-9ec1c5bf251e",
   "metadata": {
    "tags": []
   },
   "outputs": [],
   "source": [
    "df.head()"
   ]
  },
  {
   "cell_type": "code",
   "execution_count": null,
   "id": "8062df1f-44eb-4e05-9946-234ced4b0faf",
   "metadata": {},
   "outputs": [],
   "source": [
    "# The inplace=True parameter is used to modify the DataFrame in place, without the \n",
    "# need to create a new DataFrame. If inplace=False or not specified (the default), a \n",
    "# new DataFrame with the reset index is returned."
   ]
  },
  {
   "cell_type": "code",
   "execution_count": null,
   "id": "0d4e1ea5-1ffb-4db5-b882-dc3c066a1519",
   "metadata": {
    "tags": []
   },
   "outputs": [],
   "source": [
    "df.set_index('athlete', inplace = True)"
   ]
  },
  {
   "cell_type": "code",
   "execution_count": null,
   "id": "d4dd2394-525b-4322-9a2c-a4702bf19813",
   "metadata": {
    "tags": []
   },
   "outputs": [],
   "source": [
    "df.head()"
   ]
  },
  {
   "cell_type": "markdown",
   "id": "824350c6-b2d6-41c1-92dc-cfd3f9b35b30",
   "metadata": {},
   "source": [
    "### *reset_index()*"
   ]
  },
  {
   "cell_type": "code",
   "execution_count": null,
   "id": "bf4f494d-14b3-4577-8fa1-175b56e998b9",
   "metadata": {
    "tags": []
   },
   "outputs": [],
   "source": [
    "df.reset_index(inplace = True)"
   ]
  },
  {
   "cell_type": "code",
   "execution_count": null,
   "id": "b0f26a53-1e54-46d8-aa73-b7face032096",
   "metadata": {
    "tags": []
   },
   "outputs": [],
   "source": [
    "df.head()"
   ]
  },
  {
   "cell_type": "markdown",
   "id": "45db3416-685e-468e-849a-1d12e7045cdc",
   "metadata": {},
   "source": [
    "### *sort_index()*"
   ]
  },
  {
   "cell_type": "code",
   "execution_count": null,
   "id": "6183df25-e049-472b-be11-2dd1082c7d43",
   "metadata": {
    "tags": []
   },
   "outputs": [],
   "source": [
    "# The sort_index() method in pandas is used to sort a DataFrame or a Series by its \n",
    "# index. This method returns a new object with the same data but with the index sorted."
   ]
  },
  {
   "cell_type": "code",
   "execution_count": null,
   "id": "e98f5056-b7e0-4835-a6c6-29fb27ed8dc5",
   "metadata": {
    "tags": []
   },
   "outputs": [],
   "source": [
    "df.set_index('athlete', inplace = True)"
   ]
  },
  {
   "cell_type": "code",
   "execution_count": null,
   "id": "bbd46cb7-9d1d-4745-87ee-12292441f996",
   "metadata": {
    "tags": []
   },
   "outputs": [],
   "source": [
    "df.head()"
   ]
  },
  {
   "cell_type": "code",
   "execution_count": null,
   "id": "fe855ee2-c11d-42d0-b839-796385474085",
   "metadata": {
    "tags": []
   },
   "outputs": [],
   "source": [
    "df.sort_index(inplace = True, ascending = False)"
   ]
  },
  {
   "cell_type": "code",
   "execution_count": null,
   "id": "4d30f77d-b406-48f9-94dd-c68afb7285b4",
   "metadata": {
    "tags": []
   },
   "outputs": [],
   "source": [
    "df.head()"
   ]
  },
  {
   "cell_type": "code",
   "execution_count": null,
   "id": "b3540f29-9736-40ef-a10c-b0e159185d80",
   "metadata": {
    "tags": []
   },
   "outputs": [],
   "source": [
    "df.reset_index(inplace = True)"
   ]
  },
  {
   "cell_type": "code",
   "execution_count": null,
   "id": "a6006402-ab51-47ee-9f9d-f5a52193c95e",
   "metadata": {
    "tags": []
   },
   "outputs": [],
   "source": [
    "df.head()"
   ]
  },
  {
   "cell_type": "markdown",
   "id": "714b5fa3-c6b8-446b-925a-cf67b8b68ccf",
   "metadata": {},
   "source": [
    "### 14. how to use loc accessor?"
   ]
  },
  {
   "cell_type": "markdown",
   "id": "ccee4478-b601-4774-87de-80aec7233745",
   "metadata": {},
   "source": [
    "### *.loc[...]*"
   ]
  },
  {
   "cell_type": "code",
   "execution_count": null,
   "id": "907a9cbd-61d9-4744-ad4b-0849e768850a",
   "metadata": {
    "tags": []
   },
   "outputs": [],
   "source": [
    "# .loc is used for label-based indexing, allowing you to access a group of rows and \n",
    "# columns by specifying labels or boolean arrays. It is primarily used to select data \n",
    "# based on the labels of rows or columns."
   ]
  },
  {
   "cell_type": "code",
   "execution_count": null,
   "id": "99d41ca4-ecff-4a67-8495-8b537601a8c7",
   "metadata": {
    "tags": []
   },
   "outputs": [],
   "source": [
    "# .loc is inclusive on both sides, meaning that the start and stop labels specified \n",
    "# are included in the selection."
   ]
  },
  {
   "cell_type": "code",
   "execution_count": null,
   "id": "3a26b584-de74-4a13-bac0-0825f8cc1d68",
   "metadata": {
    "tags": []
   },
   "outputs": [],
   "source": [
    "df.loc[df.athlete == 'MASSON, Paul']"
   ]
  },
  {
   "cell_type": "code",
   "execution_count": null,
   "id": "6ea9a2cb-6415-49eb-9133-368830511dad",
   "metadata": {
    "tags": []
   },
   "outputs": [],
   "source": [
    "df.head()"
   ]
  },
  {
   "cell_type": "markdown",
   "id": "cf0c8f46-996a-42c4-b631-53d1a78f54e1",
   "metadata": {},
   "source": [
    "### 15. how to use iloc accessor?"
   ]
  },
  {
   "cell_type": "markdown",
   "id": "ccd07632-fb20-4ca5-aca5-88501c044925",
   "metadata": {},
   "source": [
    "###  *iloc[...]*"
   ]
  },
  {
   "cell_type": "code",
   "execution_count": null,
   "id": "46e1e174-1317-4d21-a32f-3a1ffe91175e",
   "metadata": {
    "tags": []
   },
   "outputs": [],
   "source": [
    "# The iloc accessor in pandas is used for integer-location based indexing. \n",
    "# It allows you to select data from a DataFrame based on the integer indices \n",
    "# of rows and columns. "
   ]
  },
  {
   "cell_type": "code",
   "execution_count": null,
   "id": "5a5aa47d-9007-4770-b923-9061f7af6e1b",
   "metadata": {
    "tags": []
   },
   "outputs": [],
   "source": [
    "df.iloc[100]"
   ]
  },
  {
   "cell_type": "code",
   "execution_count": null,
   "id": "76de3ef2-69d3-4805-805d-40108622c3c0",
   "metadata": {
    "tags": []
   },
   "outputs": [],
   "source": [
    "df.iloc[[1245, 2201, 3430, 12000]]"
   ]
  },
  {
   "cell_type": "code",
   "execution_count": null,
   "id": "b752a162-8075-4254-b964-746da8fdb5a6",
   "metadata": {
    "tags": []
   },
   "outputs": [],
   "source": [
    "df.iloc[1:7]"
   ]
  },
  {
   "cell_type": "markdown",
   "id": "78319c3f-ec7b-4835-8dc5-18da4fc7f7bb",
   "metadata": {},
   "source": [
    "### 16. how to use groupby() function?"
   ]
  },
  {
   "cell_type": "markdown",
   "id": "9c4b69a0-71b2-4f25-9703-15aaab2185e2",
   "metadata": {
    "tags": []
   },
   "source": [
    "###  *groupby()*"
   ]
  },
  {
   "cell_type": "code",
   "execution_count": null,
   "id": "e338b9eb-f079-4ccd-9e35-f4d990887776",
   "metadata": {},
   "outputs": [],
   "source": [
    "# The groupby() function in pandas is used for grouping data based on some criteria, \n",
    "# and it is followed by an aggregation or transformation operation.  "
   ]
  },
  {
   "cell_type": "code",
   "execution_count": null,
   "id": "e0ef5f7d",
   "metadata": {},
   "outputs": [],
   "source": [
    "# The basic idea is to split the data into groups based on a specified key and then \n",
    "# apply a function to each group independently."
   ]
  },
  {
   "cell_type": "code",
   "execution_count": null,
   "id": "a7a6d412-a8d4-40fd-9267-5776b1ebabdb",
   "metadata": {
    "tags": []
   },
   "outputs": [],
   "source": [
    "list(df.groupby('edition'))"
   ]
  },
  {
   "cell_type": "code",
   "execution_count": null,
   "id": "aaf39ed8-eaf1-4edf-9910-da5259651492",
   "metadata": {},
   "outputs": [],
   "source": [
    "# Aggregation with groupby()"
   ]
  },
  {
   "cell_type": "code",
   "execution_count": null,
   "id": "dce87d74-80e1-4727-8e68-c16ce710e4d7",
   "metadata": {
    "tags": []
   },
   "outputs": [],
   "source": [
    "df.groupby('edition').size()"
   ]
  },
  {
   "cell_type": "code",
   "execution_count": null,
   "id": "723c6dc1-8ab8-4a9a-a761-5d55a8d67ec7",
   "metadata": {
    "tags": []
   },
   "outputs": [],
   "source": [
    "# min, max, and count"
   ]
  },
  {
   "cell_type": "code",
   "execution_count": null,
   "id": "33ba7386-b9eb-4589-806d-6412900b6d03",
   "metadata": {
    "tags": []
   },
   "outputs": [],
   "source": [
    "df.groupby(['edition','NOC','medal']).agg(['min','max','count'])"
   ]
  },
  {
   "cell_type": "code",
   "execution_count": null,
   "id": "c3ab8cc4-f61e-47ad-aa62-9156b2004d2a",
   "metadata": {
    "tags": []
   },
   "outputs": [],
   "source": [
    "df.groupby(['edition','NOC','medal']).size()"
   ]
  },
  {
   "cell_type": "code",
   "execution_count": null,
   "id": "57de946c-d902-4fc5-bcef-87e5c87192c0",
   "metadata": {
    "tags": []
   },
   "outputs": [],
   "source": [
    "df.groupby(['edition','NOC','medal']).agg({'edition' :['min','max','count']})"
   ]
  },
  {
   "cell_type": "code",
   "execution_count": null,
   "id": "6048a083-8793-4578-9491-8fbbd47e1ab3",
   "metadata": {
    "tags": []
   },
   "outputs": [],
   "source": [
    "df.loc[df.athlete == 'LEWIS, Carl'].groupby('athlete').agg({'edition' : ['min','max','count']})"
   ]
  },
  {
   "cell_type": "markdown",
   "id": "a3d77ebb-8add-4537-80b8-ce305644b4ee",
   "metadata": {},
   "source": [
    "### *THE END*"
   ]
  },
  {
   "cell_type": "code",
   "execution_count": null,
   "id": "36b94e29-5229-4caf-8129-3e52488aa8ae",
   "metadata": {},
   "outputs": [],
   "source": []
  },
  {
   "cell_type": "code",
   "execution_count": null,
   "id": "9f4bf141-cda9-4f78-9533-c05c1c0bcb2d",
   "metadata": {},
   "outputs": [],
   "source": []
  },
  {
   "cell_type": "code",
   "execution_count": null,
   "id": "ae3d3a61-89ea-4a35-ab68-bf8f289092c7",
   "metadata": {},
   "outputs": [],
   "source": []
  },
  {
   "cell_type": "code",
   "execution_count": null,
   "id": "6d22e5d7-ab64-4b84-b3c6-21e83751022d",
   "metadata": {},
   "outputs": [],
   "source": []
  },
  {
   "cell_type": "code",
   "execution_count": null,
   "id": "a83ccf6c-33cc-4c6c-9ae8-2cc33cb5c35d",
   "metadata": {},
   "outputs": [],
   "source": []
  },
  {
   "cell_type": "code",
   "execution_count": null,
   "id": "48495b60-2dee-456a-b4c2-451957ea0c33",
   "metadata": {},
   "outputs": [],
   "source": []
  },
  {
   "cell_type": "code",
   "execution_count": null,
   "id": "461ed952-c9cb-49ce-905b-9756533ea3a7",
   "metadata": {},
   "outputs": [],
   "source": []
  },
  {
   "cell_type": "code",
   "execution_count": null,
   "id": "fa03ff2b-0269-46a4-9b96-a95c1f106c28",
   "metadata": {},
   "outputs": [],
   "source": []
  },
  {
   "cell_type": "code",
   "execution_count": null,
   "id": "9bc74f44-3079-457f-8f05-2debb71dc594",
   "metadata": {},
   "outputs": [],
   "source": []
  },
  {
   "cell_type": "code",
   "execution_count": null,
   "id": "56b6e431-e872-463a-80ff-39a1efd79791",
   "metadata": {},
   "outputs": [],
   "source": []
  },
  {
   "cell_type": "code",
   "execution_count": null,
   "id": "1782808c-7890-4e72-a74a-9bc4b930a8d9",
   "metadata": {},
   "outputs": [],
   "source": []
  },
  {
   "cell_type": "code",
   "execution_count": null,
   "id": "ff5418ed-8664-4793-b6cc-b92daafcbb32",
   "metadata": {},
   "outputs": [],
   "source": [
    "%%HTML\n",
    "<style type=\"text/css\">\n",
    ".CodeMirror{\n",
    "\tfont-family: Ubuntu Mono;\n",
    "\tfont-size: 16pt;\n",
    "}"
   ]
  },
  {
   "cell_type": "markdown",
   "id": "75fe4fc0-23cb-495e-9be9-c73a89f64bd2",
   "metadata": {},
   "source": [
    "----------------------------------------------------"
   ]
  }
 ],
 "metadata": {
  "kernelspec": {
   "display_name": "Python 3 (ipykernel)",
   "language": "python",
   "name": "python3"
  },
  "language_info": {
   "codemirror_mode": {
    "name": "ipython",
    "version": 3
   },
   "file_extension": ".py",
   "mimetype": "text/x-python",
   "name": "python",
   "nbconvert_exporter": "python",
   "pygments_lexer": "ipython3",
   "version": "3.11.5"
  }
 },
 "nbformat": 4,
 "nbformat_minor": 5
}
