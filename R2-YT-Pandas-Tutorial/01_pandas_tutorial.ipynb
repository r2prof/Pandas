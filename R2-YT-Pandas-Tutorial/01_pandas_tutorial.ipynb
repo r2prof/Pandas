{
 "cells": [
  {
   "cell_type": "markdown",
   "id": "a32d9a10-ae89-4eeb-bcac-4989f7b50696",
   "metadata": {},
   "source": [
    "## Pandas Tutorial"
   ]
  },
  {
   "cell_type": "markdown",
   "id": "ccff38ee-2d17-46b7-8a77-bc623a135fce",
   "metadata": {},
   "source": [
    "### 1. how to import pandas library?"
   ]
  },
  {
   "cell_type": "code",
   "execution_count": 199,
   "id": "cfc4bfdf-360b-45a8-a67d-107f1d86f7df",
   "metadata": {
    "tags": []
   },
   "outputs": [],
   "source": [
    "import pandas"
   ]
  },
  {
   "cell_type": "markdown",
   "id": "b0ee45b5-e146-40b1-93f1-60df494e22e5",
   "metadata": {},
   "source": [
    "----------------------------------------------------"
   ]
  },
  {
   "cell_type": "markdown",
   "id": "7c4f812b-9d9e-4e53-8d32-6c8871f37c7d",
   "metadata": {},
   "source": [
    "### 2. how to check pandas version?"
   ]
  },
  {
   "cell_type": "code",
   "execution_count": 200,
   "id": "cc211900-60df-4352-bd46-77f87aad58ff",
   "metadata": {
    "tags": []
   },
   "outputs": [
    {
     "data": {
      "text/plain": [
       "'2.2.2'"
      ]
     },
     "execution_count": 200,
     "metadata": {},
     "output_type": "execute_result"
    }
   ],
   "source": [
    "pandas.__version__"
   ]
  },
  {
   "cell_type": "markdown",
   "id": "a07cc926-5a92-477d-953c-71d0374434b3",
   "metadata": {},
   "source": [
    "----------------------------------------------------"
   ]
  },
  {
   "cell_type": "markdown",
   "id": "9558e3e4-14f9-4c52-991d-f5d144e1f535",
   "metadata": {},
   "source": [
    "### 3. how to use pandas?"
   ]
  },
  {
   "cell_type": "code",
   "execution_count": 201,
   "id": "5d16fef1-82e5-4fd8-a04e-535071408214",
   "metadata": {
    "tags": []
   },
   "outputs": [],
   "source": [
    "import pandas as pd"
   ]
  },
  {
   "cell_type": "markdown",
   "id": "a1376746-6859-47a7-b160-1f400840d4ae",
   "metadata": {},
   "source": [
    "----------------------------------------------------"
   ]
  },
  {
   "cell_type": "markdown",
   "id": "4f64e6cf-41bf-4009-8624-6e167272b2cc",
   "metadata": {},
   "source": [
    "### 4. how to import data from a csv file?"
   ]
  },
  {
   "cell_type": "markdown",
   "id": "9e416fe2-cc05-4e99-8c60-51e017c60686",
   "metadata": {},
   "source": [
    "#### *read_csv()*"
   ]
  },
  {
   "cell_type": "code",
   "execution_count": 231,
   "id": "8e4094da-341c-43ce-bd16-616342a17749",
   "metadata": {
    "tags": []
   },
   "outputs": [],
   "source": [
    "df = pd.read_csv('../data/olympics.csv',skiprows=4)"
   ]
  },
  {
   "cell_type": "markdown",
   "id": "10d5c6aa-d927-495b-9916-24be0928c74d",
   "metadata": {
    "tags": []
   },
   "source": [
    "----------------------------------------------------"
   ]
  },
  {
   "cell_type": "markdown",
   "id": "ce228e5f-2787-4929-bd3b-03c8038d56b2",
   "metadata": {},
   "source": [
    "### 5. how to access the data frame?"
   ]
  },
  {
   "cell_type": "code",
   "execution_count": 232,
   "id": "fb045e2c-d739-4bab-98cf-93682eeae1c6",
   "metadata": {
    "tags": []
   },
   "outputs": [
    {
     "data": {
      "text/html": [
       "<div>\n",
       "<style scoped>\n",
       "    .dataframe tbody tr th:only-of-type {\n",
       "        vertical-align: middle;\n",
       "    }\n",
       "\n",
       "    .dataframe tbody tr th {\n",
       "        vertical-align: top;\n",
       "    }\n",
       "\n",
       "    .dataframe thead th {\n",
       "        text-align: right;\n",
       "    }\n",
       "</style>\n",
       "<table border=\"1\" class=\"dataframe\">\n",
       "  <thead>\n",
       "    <tr style=\"text-align: right;\">\n",
       "      <th></th>\n",
       "      <th>City</th>\n",
       "      <th>Edition</th>\n",
       "      <th>Sport</th>\n",
       "      <th>Discipline</th>\n",
       "      <th>Athlete</th>\n",
       "      <th>NOC</th>\n",
       "      <th>Gender</th>\n",
       "      <th>Event</th>\n",
       "      <th>Event_gender</th>\n",
       "      <th>Medal</th>\n",
       "    </tr>\n",
       "  </thead>\n",
       "  <tbody>\n",
       "    <tr>\n",
       "      <th>0</th>\n",
       "      <td>Athens</td>\n",
       "      <td>1896</td>\n",
       "      <td>Aquatics</td>\n",
       "      <td>Swimming</td>\n",
       "      <td>HAJOS, Alfred</td>\n",
       "      <td>HUN</td>\n",
       "      <td>Men</td>\n",
       "      <td>100m freestyle</td>\n",
       "      <td>M</td>\n",
       "      <td>Gold</td>\n",
       "    </tr>\n",
       "    <tr>\n",
       "      <th>1</th>\n",
       "      <td>Athens</td>\n",
       "      <td>1896</td>\n",
       "      <td>Aquatics</td>\n",
       "      <td>Swimming</td>\n",
       "      <td>HERSCHMANN, Otto</td>\n",
       "      <td>AUT</td>\n",
       "      <td>Men</td>\n",
       "      <td>100m freestyle</td>\n",
       "      <td>M</td>\n",
       "      <td>Silver</td>\n",
       "    </tr>\n",
       "    <tr>\n",
       "      <th>2</th>\n",
       "      <td>Athens</td>\n",
       "      <td>1896</td>\n",
       "      <td>Aquatics</td>\n",
       "      <td>Swimming</td>\n",
       "      <td>DRIVAS, Dimitrios</td>\n",
       "      <td>GRE</td>\n",
       "      <td>Men</td>\n",
       "      <td>100m freestyle for sailors</td>\n",
       "      <td>M</td>\n",
       "      <td>Bronze</td>\n",
       "    </tr>\n",
       "    <tr>\n",
       "      <th>3</th>\n",
       "      <td>Athens</td>\n",
       "      <td>1896</td>\n",
       "      <td>Aquatics</td>\n",
       "      <td>Swimming</td>\n",
       "      <td>MALOKINIS, Ioannis</td>\n",
       "      <td>GRE</td>\n",
       "      <td>Men</td>\n",
       "      <td>100m freestyle for sailors</td>\n",
       "      <td>M</td>\n",
       "      <td>Gold</td>\n",
       "    </tr>\n",
       "    <tr>\n",
       "      <th>4</th>\n",
       "      <td>Athens</td>\n",
       "      <td>1896</td>\n",
       "      <td>Aquatics</td>\n",
       "      <td>Swimming</td>\n",
       "      <td>CHASAPIS, Spiridon</td>\n",
       "      <td>GRE</td>\n",
       "      <td>Men</td>\n",
       "      <td>100m freestyle for sailors</td>\n",
       "      <td>M</td>\n",
       "      <td>Silver</td>\n",
       "    </tr>\n",
       "    <tr>\n",
       "      <th>...</th>\n",
       "      <td>...</td>\n",
       "      <td>...</td>\n",
       "      <td>...</td>\n",
       "      <td>...</td>\n",
       "      <td>...</td>\n",
       "      <td>...</td>\n",
       "      <td>...</td>\n",
       "      <td>...</td>\n",
       "      <td>...</td>\n",
       "      <td>...</td>\n",
       "    </tr>\n",
       "    <tr>\n",
       "      <th>29211</th>\n",
       "      <td>Beijing</td>\n",
       "      <td>2008</td>\n",
       "      <td>Wrestling</td>\n",
       "      <td>Wrestling Gre-R</td>\n",
       "      <td>ENGLICH, Mirko</td>\n",
       "      <td>GER</td>\n",
       "      <td>Men</td>\n",
       "      <td>84 - 96kg</td>\n",
       "      <td>M</td>\n",
       "      <td>Silver</td>\n",
       "    </tr>\n",
       "    <tr>\n",
       "      <th>29212</th>\n",
       "      <td>Beijing</td>\n",
       "      <td>2008</td>\n",
       "      <td>Wrestling</td>\n",
       "      <td>Wrestling Gre-R</td>\n",
       "      <td>MIZGAITIS, Mindaugas</td>\n",
       "      <td>LTU</td>\n",
       "      <td>Men</td>\n",
       "      <td>96 - 120kg</td>\n",
       "      <td>M</td>\n",
       "      <td>Bronze</td>\n",
       "    </tr>\n",
       "    <tr>\n",
       "      <th>29213</th>\n",
       "      <td>Beijing</td>\n",
       "      <td>2008</td>\n",
       "      <td>Wrestling</td>\n",
       "      <td>Wrestling Gre-R</td>\n",
       "      <td>PATRIKEEV, Yuri</td>\n",
       "      <td>ARM</td>\n",
       "      <td>Men</td>\n",
       "      <td>96 - 120kg</td>\n",
       "      <td>M</td>\n",
       "      <td>Bronze</td>\n",
       "    </tr>\n",
       "    <tr>\n",
       "      <th>29214</th>\n",
       "      <td>Beijing</td>\n",
       "      <td>2008</td>\n",
       "      <td>Wrestling</td>\n",
       "      <td>Wrestling Gre-R</td>\n",
       "      <td>LOPEZ, Mijain</td>\n",
       "      <td>CUB</td>\n",
       "      <td>Men</td>\n",
       "      <td>96 - 120kg</td>\n",
       "      <td>M</td>\n",
       "      <td>Gold</td>\n",
       "    </tr>\n",
       "    <tr>\n",
       "      <th>29215</th>\n",
       "      <td>Beijing</td>\n",
       "      <td>2008</td>\n",
       "      <td>Wrestling</td>\n",
       "      <td>Wrestling Gre-R</td>\n",
       "      <td>BAROEV, Khasan</td>\n",
       "      <td>RUS</td>\n",
       "      <td>Men</td>\n",
       "      <td>96 - 120kg</td>\n",
       "      <td>M</td>\n",
       "      <td>Silver</td>\n",
       "    </tr>\n",
       "  </tbody>\n",
       "</table>\n",
       "<p>29216 rows × 10 columns</p>\n",
       "</div>"
      ],
      "text/plain": [
       "          City  Edition      Sport       Discipline               Athlete  \\\n",
       "0       Athens     1896   Aquatics         Swimming         HAJOS, Alfred   \n",
       "1       Athens     1896   Aquatics         Swimming      HERSCHMANN, Otto   \n",
       "2       Athens     1896   Aquatics         Swimming     DRIVAS, Dimitrios   \n",
       "3       Athens     1896   Aquatics         Swimming    MALOKINIS, Ioannis   \n",
       "4       Athens     1896   Aquatics         Swimming    CHASAPIS, Spiridon   \n",
       "...        ...      ...        ...              ...                   ...   \n",
       "29211  Beijing     2008  Wrestling  Wrestling Gre-R        ENGLICH, Mirko   \n",
       "29212  Beijing     2008  Wrestling  Wrestling Gre-R  MIZGAITIS, Mindaugas   \n",
       "29213  Beijing     2008  Wrestling  Wrestling Gre-R       PATRIKEEV, Yuri   \n",
       "29214  Beijing     2008  Wrestling  Wrestling Gre-R         LOPEZ, Mijain   \n",
       "29215  Beijing     2008  Wrestling  Wrestling Gre-R        BAROEV, Khasan   \n",
       "\n",
       "       NOC Gender                       Event Event_gender   Medal  \n",
       "0      HUN    Men              100m freestyle            M    Gold  \n",
       "1      AUT    Men              100m freestyle            M  Silver  \n",
       "2      GRE    Men  100m freestyle for sailors            M  Bronze  \n",
       "3      GRE    Men  100m freestyle for sailors            M    Gold  \n",
       "4      GRE    Men  100m freestyle for sailors            M  Silver  \n",
       "...    ...    ...                         ...          ...     ...  \n",
       "29211  GER    Men                   84 - 96kg            M  Silver  \n",
       "29212  LTU    Men                  96 - 120kg            M  Bronze  \n",
       "29213  ARM    Men                  96 - 120kg            M  Bronze  \n",
       "29214  CUB    Men                  96 - 120kg            M    Gold  \n",
       "29215  RUS    Men                  96 - 120kg            M  Silver  \n",
       "\n",
       "[29216 rows x 10 columns]"
      ]
     },
     "execution_count": 232,
     "metadata": {},
     "output_type": "execute_result"
    }
   ],
   "source": [
    "df"
   ]
  },
  {
   "cell_type": "markdown",
   "id": "b4edafdc-deb2-41e4-9a41-46a3cd64540d",
   "metadata": {},
   "source": [
    "----------------------------------------------------"
   ]
  },
  {
   "cell_type": "markdown",
   "id": "5c6fcf0b-252f-4cec-a3e9-36678965d256",
   "metadata": {},
   "source": [
    "### 6. how to list few data instances?"
   ]
  },
  {
   "cell_type": "markdown",
   "id": "74b9951e-9a5e-4e18-910a-90a9c5edf112",
   "metadata": {
    "tags": []
   },
   "source": [
    "#### *.head()*; *tail()*"
   ]
  },
  {
   "cell_type": "code",
   "execution_count": 204,
   "id": "d62550ae-eba4-4c93-8ae0-1c73cf1d923c",
   "metadata": {
    "tags": []
   },
   "outputs": [
    {
     "data": {
      "text/html": [
       "<div>\n",
       "<style scoped>\n",
       "    .dataframe tbody tr th:only-of-type {\n",
       "        vertical-align: middle;\n",
       "    }\n",
       "\n",
       "    .dataframe tbody tr th {\n",
       "        vertical-align: top;\n",
       "    }\n",
       "\n",
       "    .dataframe thead th {\n",
       "        text-align: right;\n",
       "    }\n",
       "</style>\n",
       "<table border=\"1\" class=\"dataframe\">\n",
       "  <thead>\n",
       "    <tr style=\"text-align: right;\">\n",
       "      <th></th>\n",
       "      <th>City</th>\n",
       "      <th>Edition</th>\n",
       "      <th>Sport</th>\n",
       "      <th>Discipline</th>\n",
       "      <th>Athlete</th>\n",
       "      <th>NOC</th>\n",
       "      <th>Gender</th>\n",
       "      <th>Event</th>\n",
       "      <th>Event_gender</th>\n",
       "      <th>Medal</th>\n",
       "    </tr>\n",
       "  </thead>\n",
       "  <tbody>\n",
       "    <tr>\n",
       "      <th>0</th>\n",
       "      <td>Athens</td>\n",
       "      <td>1896</td>\n",
       "      <td>Aquatics</td>\n",
       "      <td>Swimming</td>\n",
       "      <td>HAJOS, Alfred</td>\n",
       "      <td>HUN</td>\n",
       "      <td>Men</td>\n",
       "      <td>100m freestyle</td>\n",
       "      <td>M</td>\n",
       "      <td>Gold</td>\n",
       "    </tr>\n",
       "    <tr>\n",
       "      <th>1</th>\n",
       "      <td>Athens</td>\n",
       "      <td>1896</td>\n",
       "      <td>Aquatics</td>\n",
       "      <td>Swimming</td>\n",
       "      <td>HERSCHMANN, Otto</td>\n",
       "      <td>AUT</td>\n",
       "      <td>Men</td>\n",
       "      <td>100m freestyle</td>\n",
       "      <td>M</td>\n",
       "      <td>Silver</td>\n",
       "    </tr>\n",
       "    <tr>\n",
       "      <th>2</th>\n",
       "      <td>Athens</td>\n",
       "      <td>1896</td>\n",
       "      <td>Aquatics</td>\n",
       "      <td>Swimming</td>\n",
       "      <td>DRIVAS, Dimitrios</td>\n",
       "      <td>GRE</td>\n",
       "      <td>Men</td>\n",
       "      <td>100m freestyle for sailors</td>\n",
       "      <td>M</td>\n",
       "      <td>Bronze</td>\n",
       "    </tr>\n",
       "    <tr>\n",
       "      <th>3</th>\n",
       "      <td>Athens</td>\n",
       "      <td>1896</td>\n",
       "      <td>Aquatics</td>\n",
       "      <td>Swimming</td>\n",
       "      <td>MALOKINIS, Ioannis</td>\n",
       "      <td>GRE</td>\n",
       "      <td>Men</td>\n",
       "      <td>100m freestyle for sailors</td>\n",
       "      <td>M</td>\n",
       "      <td>Gold</td>\n",
       "    </tr>\n",
       "    <tr>\n",
       "      <th>4</th>\n",
       "      <td>Athens</td>\n",
       "      <td>1896</td>\n",
       "      <td>Aquatics</td>\n",
       "      <td>Swimming</td>\n",
       "      <td>CHASAPIS, Spiridon</td>\n",
       "      <td>GRE</td>\n",
       "      <td>Men</td>\n",
       "      <td>100m freestyle for sailors</td>\n",
       "      <td>M</td>\n",
       "      <td>Silver</td>\n",
       "    </tr>\n",
       "  </tbody>\n",
       "</table>\n",
       "</div>"
      ],
      "text/plain": [
       "     City  Edition     Sport Discipline             Athlete  NOC Gender  \\\n",
       "0  Athens     1896  Aquatics   Swimming       HAJOS, Alfred  HUN    Men   \n",
       "1  Athens     1896  Aquatics   Swimming    HERSCHMANN, Otto  AUT    Men   \n",
       "2  Athens     1896  Aquatics   Swimming   DRIVAS, Dimitrios  GRE    Men   \n",
       "3  Athens     1896  Aquatics   Swimming  MALOKINIS, Ioannis  GRE    Men   \n",
       "4  Athens     1896  Aquatics   Swimming  CHASAPIS, Spiridon  GRE    Men   \n",
       "\n",
       "                        Event Event_gender   Medal  \n",
       "0              100m freestyle            M    Gold  \n",
       "1              100m freestyle            M  Silver  \n",
       "2  100m freestyle for sailors            M  Bronze  \n",
       "3  100m freestyle for sailors            M    Gold  \n",
       "4  100m freestyle for sailors            M  Silver  "
      ]
     },
     "execution_count": 204,
     "metadata": {},
     "output_type": "execute_result"
    }
   ],
   "source": [
    "df.head()"
   ]
  },
  {
   "cell_type": "code",
   "execution_count": 205,
   "id": "658e6fd9-0ea4-4501-9030-791347eedbb2",
   "metadata": {
    "tags": []
   },
   "outputs": [
    {
     "data": {
      "text/html": [
       "<div>\n",
       "<style scoped>\n",
       "    .dataframe tbody tr th:only-of-type {\n",
       "        vertical-align: middle;\n",
       "    }\n",
       "\n",
       "    .dataframe tbody tr th {\n",
       "        vertical-align: top;\n",
       "    }\n",
       "\n",
       "    .dataframe thead th {\n",
       "        text-align: right;\n",
       "    }\n",
       "</style>\n",
       "<table border=\"1\" class=\"dataframe\">\n",
       "  <thead>\n",
       "    <tr style=\"text-align: right;\">\n",
       "      <th></th>\n",
       "      <th>City</th>\n",
       "      <th>Edition</th>\n",
       "      <th>Sport</th>\n",
       "      <th>Discipline</th>\n",
       "      <th>Athlete</th>\n",
       "      <th>NOC</th>\n",
       "      <th>Gender</th>\n",
       "      <th>Event</th>\n",
       "      <th>Event_gender</th>\n",
       "      <th>Medal</th>\n",
       "    </tr>\n",
       "  </thead>\n",
       "  <tbody>\n",
       "    <tr>\n",
       "      <th>29213</th>\n",
       "      <td>Beijing</td>\n",
       "      <td>2008</td>\n",
       "      <td>Wrestling</td>\n",
       "      <td>Wrestling Gre-R</td>\n",
       "      <td>PATRIKEEV, Yuri</td>\n",
       "      <td>ARM</td>\n",
       "      <td>Men</td>\n",
       "      <td>96 - 120kg</td>\n",
       "      <td>M</td>\n",
       "      <td>Bronze</td>\n",
       "    </tr>\n",
       "    <tr>\n",
       "      <th>29214</th>\n",
       "      <td>Beijing</td>\n",
       "      <td>2008</td>\n",
       "      <td>Wrestling</td>\n",
       "      <td>Wrestling Gre-R</td>\n",
       "      <td>LOPEZ, Mijain</td>\n",
       "      <td>CUB</td>\n",
       "      <td>Men</td>\n",
       "      <td>96 - 120kg</td>\n",
       "      <td>M</td>\n",
       "      <td>Gold</td>\n",
       "    </tr>\n",
       "    <tr>\n",
       "      <th>29215</th>\n",
       "      <td>Beijing</td>\n",
       "      <td>2008</td>\n",
       "      <td>Wrestling</td>\n",
       "      <td>Wrestling Gre-R</td>\n",
       "      <td>BAROEV, Khasan</td>\n",
       "      <td>RUS</td>\n",
       "      <td>Men</td>\n",
       "      <td>96 - 120kg</td>\n",
       "      <td>M</td>\n",
       "      <td>Silver</td>\n",
       "    </tr>\n",
       "  </tbody>\n",
       "</table>\n",
       "</div>"
      ],
      "text/plain": [
       "          City  Edition      Sport       Discipline          Athlete  NOC  \\\n",
       "29213  Beijing     2008  Wrestling  Wrestling Gre-R  PATRIKEEV, Yuri  ARM   \n",
       "29214  Beijing     2008  Wrestling  Wrestling Gre-R    LOPEZ, Mijain  CUB   \n",
       "29215  Beijing     2008  Wrestling  Wrestling Gre-R   BAROEV, Khasan  RUS   \n",
       "\n",
       "      Gender       Event Event_gender   Medal  \n",
       "29213    Men  96 - 120kg            M  Bronze  \n",
       "29214    Men  96 - 120kg            M    Gold  \n",
       "29215    Men  96 - 120kg            M  Silver  "
      ]
     },
     "execution_count": 205,
     "metadata": {},
     "output_type": "execute_result"
    }
   ],
   "source": [
    "df.tail(3)"
   ]
  },
  {
   "cell_type": "markdown",
   "id": "331c8de3-287e-4817-90d8-b04b63d2a976",
   "metadata": {},
   "source": [
    "----------------------------------------------------"
   ]
  },
  {
   "cell_type": "markdown",
   "id": "cb0983b0-a1bf-4c26-a3c9-dbaf1d1d8db4",
   "metadata": {},
   "source": [
    "### 7. how to get the info about data?"
   ]
  },
  {
   "cell_type": "markdown",
   "id": "d678828d-3f68-47d8-b38f-c69f8eef8efa",
   "metadata": {},
   "source": [
    "#### *.info()*; *.shape()*"
   ]
  },
  {
   "cell_type": "code",
   "execution_count": 206,
   "id": "d0477985-e3ac-4aaf-abf5-89f577f66f58",
   "metadata": {
    "tags": []
   },
   "outputs": [
    {
     "name": "stdout",
     "output_type": "stream",
     "text": [
      "<class 'pandas.core.frame.DataFrame'>\n",
      "RangeIndex: 29216 entries, 0 to 29215\n",
      "Data columns (total 10 columns):\n",
      " #   Column        Non-Null Count  Dtype \n",
      "---  ------        --------------  ----- \n",
      " 0   City          29216 non-null  object\n",
      " 1   Edition       29216 non-null  int64 \n",
      " 2   Sport         29216 non-null  object\n",
      " 3   Discipline    29216 non-null  object\n",
      " 4   Athlete       29216 non-null  object\n",
      " 5   NOC           29216 non-null  object\n",
      " 6   Gender        29216 non-null  object\n",
      " 7   Event         29216 non-null  object\n",
      " 8   Event_gender  29216 non-null  object\n",
      " 9   Medal         29216 non-null  object\n",
      "dtypes: int64(1), object(9)\n",
      "memory usage: 2.2+ MB\n"
     ]
    }
   ],
   "source": [
    "df.info()"
   ]
  },
  {
   "cell_type": "code",
   "execution_count": 207,
   "id": "cfe7c32d-ab1b-493c-b2be-b573a78f1454",
   "metadata": {
    "tags": []
   },
   "outputs": [
    {
     "data": {
      "text/plain": [
       "(29216, 10)"
      ]
     },
     "execution_count": 207,
     "metadata": {},
     "output_type": "execute_result"
    }
   ],
   "source": [
    "df.shape"
   ]
  },
  {
   "cell_type": "code",
   "execution_count": 208,
   "id": "d2eb13b9-6293-46d0-9f7d-d848b9c275d4",
   "metadata": {
    "tags": []
   },
   "outputs": [
    {
     "data": {
      "text/plain": [
       "29216"
      ]
     },
     "execution_count": 208,
     "metadata": {},
     "output_type": "execute_result"
    }
   ],
   "source": [
    "# df.shape[0 = rows]\n",
    "df.shape[0]"
   ]
  },
  {
   "cell_type": "code",
   "execution_count": 209,
   "id": "89bc889b-6e9d-4301-9f77-a90763039af5",
   "metadata": {
    "tags": []
   },
   "outputs": [
    {
     "data": {
      "text/plain": [
       "10"
      ]
     },
     "execution_count": 209,
     "metadata": {},
     "output_type": "execute_result"
    }
   ],
   "source": [
    "# df.shape[1 = cols]\n",
    "df.shape[1]"
   ]
  },
  {
   "cell_type": "markdown",
   "id": "59d9f82f-33ef-4401-80aa-00f79317261d",
   "metadata": {},
   "source": [
    "----------------------------------------------------"
   ]
  },
  {
   "cell_type": "markdown",
   "id": "1540ffa9-6626-465f-895a-08b3b0aee01e",
   "metadata": {},
   "source": [
    "### 8. how to check the data type?"
   ]
  },
  {
   "cell_type": "markdown",
   "id": "5c29a09a-9110-4657-8b47-833a36e72362",
   "metadata": {},
   "source": [
    "#### *type()*"
   ]
  },
  {
   "cell_type": "code",
   "execution_count": 210,
   "id": "fc64e835-6789-449e-8126-b73f9fb71c4d",
   "metadata": {
    "tags": []
   },
   "outputs": [
    {
     "data": {
      "text/plain": [
       "pandas.core.frame.DataFrame"
      ]
     },
     "execution_count": 210,
     "metadata": {},
     "output_type": "execute_result"
    }
   ],
   "source": [
    "type(df)"
   ]
  },
  {
   "cell_type": "code",
   "execution_count": 211,
   "id": "6d9e9373-ea35-4914-bf7f-b6a56577b1b8",
   "metadata": {
    "tags": []
   },
   "outputs": [
    {
     "data": {
      "text/plain": [
       "pandas.core.series.Series"
      ]
     },
     "execution_count": 211,
     "metadata": {},
     "output_type": "execute_result"
    }
   ],
   "source": [
    "type(df.City)"
   ]
  },
  {
   "cell_type": "code",
   "execution_count": 212,
   "id": "f5e98b0a-dc7f-4ca0-a24b-40871a1977a8",
   "metadata": {
    "tags": []
   },
   "outputs": [
    {
     "data": {
      "text/plain": [
       "pandas.core.frame.DataFrame"
      ]
     },
     "execution_count": 212,
     "metadata": {},
     "output_type": "execute_result"
    }
   ],
   "source": [
    "type(df[['City','Edition','Athlete']])"
   ]
  },
  {
   "cell_type": "markdown",
   "id": "8cb7d4d3-d177-4e41-9a80-c4bad1a685c8",
   "metadata": {},
   "source": [
    "----------------------------------------------------"
   ]
  },
  {
   "cell_type": "markdown",
   "id": "cd0d9ded-3422-4a61-a00f-404db39b56b7",
   "metadata": {},
   "source": [
    "### 9. how to access columns/series using []?"
   ]
  },
  {
   "cell_type": "code",
   "execution_count": 213,
   "id": "3d0c9aee-d29a-489c-8c36-c8964733ef71",
   "metadata": {
    "tags": []
   },
   "outputs": [
    {
     "data": {
      "text/plain": [
       "0               HAJOS, Alfred\n",
       "1            HERSCHMANN, Otto\n",
       "2           DRIVAS, Dimitrios\n",
       "3          MALOKINIS, Ioannis\n",
       "4          CHASAPIS, Spiridon\n",
       "                 ...         \n",
       "29211          ENGLICH, Mirko\n",
       "29212    MIZGAITIS, Mindaugas\n",
       "29213         PATRIKEEV, Yuri\n",
       "29214           LOPEZ, Mijain\n",
       "29215          BAROEV, Khasan\n",
       "Name: Athlete, Length: 29216, dtype: object"
      ]
     },
     "execution_count": 213,
     "metadata": {},
     "output_type": "execute_result"
    }
   ],
   "source": [
    "df['Athlete']"
   ]
  },
  {
   "cell_type": "markdown",
   "id": "75cfd07f-5727-4164-938c-1ff1b5b3f1d3",
   "metadata": {},
   "source": [
    "----------------------------------------------------"
   ]
  },
  {
   "cell_type": "markdown",
   "id": "b41bfeca-e827-40fa-bd53-c85464d7842f",
   "metadata": {},
   "source": [
    "### 10. how to access columns/series using dot notation?"
   ]
  },
  {
   "cell_type": "code",
   "execution_count": 214,
   "id": "cd0fd76b-13e8-465b-a138-853ac7b2d19d",
   "metadata": {
    "tags": []
   },
   "outputs": [
    {
     "data": {
      "text/plain": [
       "0               HAJOS, Alfred\n",
       "1            HERSCHMANN, Otto\n",
       "2           DRIVAS, Dimitrios\n",
       "3          MALOKINIS, Ioannis\n",
       "4          CHASAPIS, Spiridon\n",
       "                 ...         \n",
       "29211          ENGLICH, Mirko\n",
       "29212    MIZGAITIS, Mindaugas\n",
       "29213         PATRIKEEV, Yuri\n",
       "29214           LOPEZ, Mijain\n",
       "29215          BAROEV, Khasan\n",
       "Name: Athlete, Length: 29216, dtype: object"
      ]
     },
     "execution_count": 214,
     "metadata": {},
     "output_type": "execute_result"
    }
   ],
   "source": [
    "df.Athlete"
   ]
  },
  {
   "cell_type": "markdown",
   "id": "0cdf9ee1-8fca-41a8-ab2b-ba69ff65c13c",
   "metadata": {},
   "source": [
    "----------------------------------------------------"
   ]
  },
  {
   "cell_type": "markdown",
   "id": "004e5d87-bd62-4de7-9e73-9fb729ac82e8",
   "metadata": {},
   "source": [
    "### 11. how to access multiple columns?"
   ]
  },
  {
   "cell_type": "code",
   "execution_count": 215,
   "id": "30349cd2-8885-4c5c-a30c-d9819bcbd77e",
   "metadata": {
    "tags": []
   },
   "outputs": [
    {
     "data": {
      "text/html": [
       "<div>\n",
       "<style scoped>\n",
       "    .dataframe tbody tr th:only-of-type {\n",
       "        vertical-align: middle;\n",
       "    }\n",
       "\n",
       "    .dataframe tbody tr th {\n",
       "        vertical-align: top;\n",
       "    }\n",
       "\n",
       "    .dataframe thead th {\n",
       "        text-align: right;\n",
       "    }\n",
       "</style>\n",
       "<table border=\"1\" class=\"dataframe\">\n",
       "  <thead>\n",
       "    <tr style=\"text-align: right;\">\n",
       "      <th></th>\n",
       "      <th>City</th>\n",
       "      <th>Edition</th>\n",
       "      <th>Athlete</th>\n",
       "    </tr>\n",
       "  </thead>\n",
       "  <tbody>\n",
       "    <tr>\n",
       "      <th>0</th>\n",
       "      <td>Athens</td>\n",
       "      <td>1896</td>\n",
       "      <td>HAJOS, Alfred</td>\n",
       "    </tr>\n",
       "    <tr>\n",
       "      <th>1</th>\n",
       "      <td>Athens</td>\n",
       "      <td>1896</td>\n",
       "      <td>HERSCHMANN, Otto</td>\n",
       "    </tr>\n",
       "    <tr>\n",
       "      <th>2</th>\n",
       "      <td>Athens</td>\n",
       "      <td>1896</td>\n",
       "      <td>DRIVAS, Dimitrios</td>\n",
       "    </tr>\n",
       "    <tr>\n",
       "      <th>3</th>\n",
       "      <td>Athens</td>\n",
       "      <td>1896</td>\n",
       "      <td>MALOKINIS, Ioannis</td>\n",
       "    </tr>\n",
       "    <tr>\n",
       "      <th>4</th>\n",
       "      <td>Athens</td>\n",
       "      <td>1896</td>\n",
       "      <td>CHASAPIS, Spiridon</td>\n",
       "    </tr>\n",
       "    <tr>\n",
       "      <th>...</th>\n",
       "      <td>...</td>\n",
       "      <td>...</td>\n",
       "      <td>...</td>\n",
       "    </tr>\n",
       "    <tr>\n",
       "      <th>29211</th>\n",
       "      <td>Beijing</td>\n",
       "      <td>2008</td>\n",
       "      <td>ENGLICH, Mirko</td>\n",
       "    </tr>\n",
       "    <tr>\n",
       "      <th>29212</th>\n",
       "      <td>Beijing</td>\n",
       "      <td>2008</td>\n",
       "      <td>MIZGAITIS, Mindaugas</td>\n",
       "    </tr>\n",
       "    <tr>\n",
       "      <th>29213</th>\n",
       "      <td>Beijing</td>\n",
       "      <td>2008</td>\n",
       "      <td>PATRIKEEV, Yuri</td>\n",
       "    </tr>\n",
       "    <tr>\n",
       "      <th>29214</th>\n",
       "      <td>Beijing</td>\n",
       "      <td>2008</td>\n",
       "      <td>LOPEZ, Mijain</td>\n",
       "    </tr>\n",
       "    <tr>\n",
       "      <th>29215</th>\n",
       "      <td>Beijing</td>\n",
       "      <td>2008</td>\n",
       "      <td>BAROEV, Khasan</td>\n",
       "    </tr>\n",
       "  </tbody>\n",
       "</table>\n",
       "<p>29216 rows × 3 columns</p>\n",
       "</div>"
      ],
      "text/plain": [
       "          City  Edition               Athlete\n",
       "0       Athens     1896         HAJOS, Alfred\n",
       "1       Athens     1896      HERSCHMANN, Otto\n",
       "2       Athens     1896     DRIVAS, Dimitrios\n",
       "3       Athens     1896    MALOKINIS, Ioannis\n",
       "4       Athens     1896    CHASAPIS, Spiridon\n",
       "...        ...      ...                   ...\n",
       "29211  Beijing     2008        ENGLICH, Mirko\n",
       "29212  Beijing     2008  MIZGAITIS, Mindaugas\n",
       "29213  Beijing     2008       PATRIKEEV, Yuri\n",
       "29214  Beijing     2008         LOPEZ, Mijain\n",
       "29215  Beijing     2008        BAROEV, Khasan\n",
       "\n",
       "[29216 rows x 3 columns]"
      ]
     },
     "execution_count": 215,
     "metadata": {},
     "output_type": "execute_result"
    }
   ],
   "source": [
    "df[['City','Edition','Athlete']]"
   ]
  },
  {
   "cell_type": "markdown",
   "id": "03e5f287-b884-41fe-bf22-4eb417c91a48",
   "metadata": {},
   "source": [
    "----------------------------------------------------"
   ]
  },
  {
   "cell_type": "markdown",
   "id": "0aaa59b4-f87e-4e81-b091-006e2ce11890",
   "metadata": {},
   "source": [
    "### 12. how to obtain the frequency of unique values in a series?"
   ]
  },
  {
   "cell_type": "markdown",
   "id": "0141464c-5e84-44a8-a840-1913ec7a7528",
   "metadata": {},
   "source": [
    "#### *.value_counts()*"
   ]
  },
  {
   "cell_type": "code",
   "execution_count": 216,
   "id": "9a796c7d-5187-417d-a028-1cf11d76fe5b",
   "metadata": {
    "tags": []
   },
   "outputs": [
    {
     "data": {
      "text/plain": [
       "Edition\n",
       "2008    2042\n",
       "2000    2015\n",
       "2004    1998\n",
       "1996    1859\n",
       "1992    1705\n",
       "1988    1546\n",
       "1984    1459\n",
       "1980    1387\n",
       "1976    1305\n",
       "1920    1298\n",
       "1972    1185\n",
       "1968    1031\n",
       "1964    1010\n",
       "1952     889\n",
       "1912     885\n",
       "1956     885\n",
       "1924     884\n",
       "1960     882\n",
       "1936     875\n",
       "1948     814\n",
       "1908     804\n",
       "1928     710\n",
       "1932     615\n",
       "1900     512\n",
       "1904     470\n",
       "1896     151\n",
       "Name: count, dtype: int64"
      ]
     },
     "execution_count": 216,
     "metadata": {},
     "output_type": "execute_result"
    }
   ],
   "source": [
    "df.Edition.value_counts()"
   ]
  },
  {
   "cell_type": "code",
   "execution_count": 217,
   "id": "ec74691e-7105-4a1f-a2be-a6401b045083",
   "metadata": {
    "tags": []
   },
   "outputs": [
    {
     "data": {
      "text/plain": [
       "Gender\n",
       "Women     7495\n",
       "Men      21721\n",
       "Name: count, dtype: int64"
      ]
     },
     "execution_count": 217,
     "metadata": {},
     "output_type": "execute_result"
    }
   ],
   "source": [
    "# This command will return a series with the counts of each unique value in the \"Gender\" column, including NaN values, sorted in ascending order.\n",
    "df.Gender.value_counts(ascending=True,dropna=False)"
   ]
  },
  {
   "cell_type": "markdown",
   "id": "a3867326-2f14-4722-b105-6559117a9812",
   "metadata": {},
   "source": [
    "----------------------------------------------------"
   ]
  },
  {
   "cell_type": "markdown",
   "id": "fe05d5ab-6215-4908-b584-5c360a92c64f",
   "metadata": {
    "tags": []
   },
   "source": [
    "### 13. how to sort a data frame or a series along either axis?"
   ]
  },
  {
   "cell_type": "markdown",
   "id": "d1f38693-7feb-4e76-b5b1-355cb1e212c7",
   "metadata": {},
   "source": [
    "#### *.sort_values()*; *axis=0 (rows):*, *axis=1 (columns):*"
   ]
  },
  {
   "cell_type": "code",
   "execution_count": 218,
   "id": "b8424973-19c5-4174-8f92-2e996229124d",
   "metadata": {
    "tags": []
   },
   "outputs": [
    {
     "data": {
      "text/plain": [
       "651                 AABYE, Edgar\n",
       "2849       AALTONEN, Arvo Ossian\n",
       "2852       AALTONEN, Arvo Ossian\n",
       "7716    AALTONEN, Paavo Johannes\n",
       "7730    AALTONEN, Paavo Johannes\n",
       "                  ...           \n",
       "603                   ÖSTMO, Ole\n",
       "608                   ÖSTMO, Ole\n",
       "621                   ÖSTMO, Ole\n",
       "596                   ÖSTMO, Ole\n",
       "8051           ÖSTRAND, Per-Olof\n",
       "Name: Athlete, Length: 29216, dtype: object"
      ]
     },
     "execution_count": 218,
     "metadata": {},
     "output_type": "execute_result"
    }
   ],
   "source": [
    "athlete = df.Athlete.sort_values()\n",
    "athlete"
   ]
  },
  {
   "cell_type": "code",
   "execution_count": null,
   "id": "64d90e36-03a8-42d2-bbc1-db00437d32c3",
   "metadata": {
    "tags": []
   },
   "outputs": [],
   "source": [
    "df.sort_values(by=['Edition','Athlete'])"
   ]
  },
  {
   "cell_type": "markdown",
   "id": "18a2364a-d16a-489a-9f3b-17fda105c16f",
   "metadata": {},
   "source": [
    "----------------------------------------------------"
   ]
  },
  {
   "cell_type": "markdown",
   "id": "16ee5467-f627-4961-b170-804659bba983",
   "metadata": {},
   "source": [
    "### 14. how to use indexing?"
   ]
  },
  {
   "cell_type": "code",
   "execution_count": 219,
   "id": "6fc2f94d-b2ef-4cd4-8c6b-66084d6f778d",
   "metadata": {
    "tags": []
   },
   "outputs": [],
   "source": [
    "# In pandas, the index attribute represents the index (row labels) of a DataFrame or Series. \n",
    "# You can access it directly using the index attribute."
   ]
  },
  {
   "cell_type": "markdown",
   "id": "133c2378-b259-49b4-8008-64277dbc2947",
   "metadata": {},
   "source": [
    "#### *set_index() to set a DataFrame's index with a specific column.*"
   ]
  },
  {
   "cell_type": "code",
   "execution_count": 239,
   "id": "adb63906-0f87-406a-8f6d-d8a99c5b1314",
   "metadata": {
    "tags": []
   },
   "outputs": [],
   "source": [
    "# The inplace=True parameter is used to modify the DataFrame in place, without the need to create a new DataFrame. \n",
    "# If inplace=False or not specified (the default), a new DataFrame with the reset index is returned.\n",
    "\n",
    "df.set_index('Athlete',inplace=True)"
   ]
  },
  {
   "cell_type": "code",
   "execution_count": 236,
   "id": "6e4dfb72-ca64-452d-8dcb-9ec1c5bf251e",
   "metadata": {
    "tags": []
   },
   "outputs": [
    {
     "data": {
      "text/html": [
       "<div>\n",
       "<style scoped>\n",
       "    .dataframe tbody tr th:only-of-type {\n",
       "        vertical-align: middle;\n",
       "    }\n",
       "\n",
       "    .dataframe tbody tr th {\n",
       "        vertical-align: top;\n",
       "    }\n",
       "\n",
       "    .dataframe thead th {\n",
       "        text-align: right;\n",
       "    }\n",
       "</style>\n",
       "<table border=\"1\" class=\"dataframe\">\n",
       "  <thead>\n",
       "    <tr style=\"text-align: right;\">\n",
       "      <th></th>\n",
       "      <th>City</th>\n",
       "      <th>Edition</th>\n",
       "      <th>Sport</th>\n",
       "      <th>Discipline</th>\n",
       "      <th>NOC</th>\n",
       "      <th>Gender</th>\n",
       "      <th>Event</th>\n",
       "      <th>Event_gender</th>\n",
       "      <th>Medal</th>\n",
       "    </tr>\n",
       "    <tr>\n",
       "      <th>Athlete</th>\n",
       "      <th></th>\n",
       "      <th></th>\n",
       "      <th></th>\n",
       "      <th></th>\n",
       "      <th></th>\n",
       "      <th></th>\n",
       "      <th></th>\n",
       "      <th></th>\n",
       "      <th></th>\n",
       "    </tr>\n",
       "  </thead>\n",
       "  <tbody>\n",
       "    <tr>\n",
       "      <th>HAJOS, Alfred</th>\n",
       "      <td>Athens</td>\n",
       "      <td>1896</td>\n",
       "      <td>Aquatics</td>\n",
       "      <td>Swimming</td>\n",
       "      <td>HUN</td>\n",
       "      <td>Men</td>\n",
       "      <td>100m freestyle</td>\n",
       "      <td>M</td>\n",
       "      <td>Gold</td>\n",
       "    </tr>\n",
       "    <tr>\n",
       "      <th>HERSCHMANN, Otto</th>\n",
       "      <td>Athens</td>\n",
       "      <td>1896</td>\n",
       "      <td>Aquatics</td>\n",
       "      <td>Swimming</td>\n",
       "      <td>AUT</td>\n",
       "      <td>Men</td>\n",
       "      <td>100m freestyle</td>\n",
       "      <td>M</td>\n",
       "      <td>Silver</td>\n",
       "    </tr>\n",
       "    <tr>\n",
       "      <th>DRIVAS, Dimitrios</th>\n",
       "      <td>Athens</td>\n",
       "      <td>1896</td>\n",
       "      <td>Aquatics</td>\n",
       "      <td>Swimming</td>\n",
       "      <td>GRE</td>\n",
       "      <td>Men</td>\n",
       "      <td>100m freestyle for sailors</td>\n",
       "      <td>M</td>\n",
       "      <td>Bronze</td>\n",
       "    </tr>\n",
       "    <tr>\n",
       "      <th>MALOKINIS, Ioannis</th>\n",
       "      <td>Athens</td>\n",
       "      <td>1896</td>\n",
       "      <td>Aquatics</td>\n",
       "      <td>Swimming</td>\n",
       "      <td>GRE</td>\n",
       "      <td>Men</td>\n",
       "      <td>100m freestyle for sailors</td>\n",
       "      <td>M</td>\n",
       "      <td>Gold</td>\n",
       "    </tr>\n",
       "    <tr>\n",
       "      <th>CHASAPIS, Spiridon</th>\n",
       "      <td>Athens</td>\n",
       "      <td>1896</td>\n",
       "      <td>Aquatics</td>\n",
       "      <td>Swimming</td>\n",
       "      <td>GRE</td>\n",
       "      <td>Men</td>\n",
       "      <td>100m freestyle for sailors</td>\n",
       "      <td>M</td>\n",
       "      <td>Silver</td>\n",
       "    </tr>\n",
       "  </tbody>\n",
       "</table>\n",
       "</div>"
      ],
      "text/plain": [
       "                      City  Edition     Sport Discipline  NOC Gender  \\\n",
       "Athlete                                                                \n",
       "HAJOS, Alfred       Athens     1896  Aquatics   Swimming  HUN    Men   \n",
       "HERSCHMANN, Otto    Athens     1896  Aquatics   Swimming  AUT    Men   \n",
       "DRIVAS, Dimitrios   Athens     1896  Aquatics   Swimming  GRE    Men   \n",
       "MALOKINIS, Ioannis  Athens     1896  Aquatics   Swimming  GRE    Men   \n",
       "CHASAPIS, Spiridon  Athens     1896  Aquatics   Swimming  GRE    Men   \n",
       "\n",
       "                                         Event Event_gender   Medal  \n",
       "Athlete                                                              \n",
       "HAJOS, Alfred                   100m freestyle            M    Gold  \n",
       "HERSCHMANN, Otto                100m freestyle            M  Silver  \n",
       "DRIVAS, Dimitrios   100m freestyle for sailors            M  Bronze  \n",
       "MALOKINIS, Ioannis  100m freestyle for sailors            M    Gold  \n",
       "CHASAPIS, Spiridon  100m freestyle for sailors            M  Silver  "
      ]
     },
     "execution_count": 236,
     "metadata": {},
     "output_type": "execute_result"
    }
   ],
   "source": [
    "df.head()"
   ]
  },
  {
   "cell_type": "markdown",
   "id": "824350c6-b2d6-41c1-92dc-cfd3f9b35b30",
   "metadata": {},
   "source": [
    "#### *reset_index()*"
   ]
  },
  {
   "cell_type": "code",
   "execution_count": 237,
   "id": "bf4f494d-14b3-4577-8fa1-175b56e998b9",
   "metadata": {
    "tags": []
   },
   "outputs": [],
   "source": [
    "df.reset_index(inplace=True)"
   ]
  },
  {
   "cell_type": "code",
   "execution_count": 238,
   "id": "b0f26a53-1e54-46d8-aa73-b7face032096",
   "metadata": {
    "tags": []
   },
   "outputs": [
    {
     "data": {
      "text/html": [
       "<div>\n",
       "<style scoped>\n",
       "    .dataframe tbody tr th:only-of-type {\n",
       "        vertical-align: middle;\n",
       "    }\n",
       "\n",
       "    .dataframe tbody tr th {\n",
       "        vertical-align: top;\n",
       "    }\n",
       "\n",
       "    .dataframe thead th {\n",
       "        text-align: right;\n",
       "    }\n",
       "</style>\n",
       "<table border=\"1\" class=\"dataframe\">\n",
       "  <thead>\n",
       "    <tr style=\"text-align: right;\">\n",
       "      <th></th>\n",
       "      <th>Athlete</th>\n",
       "      <th>City</th>\n",
       "      <th>Edition</th>\n",
       "      <th>Sport</th>\n",
       "      <th>Discipline</th>\n",
       "      <th>NOC</th>\n",
       "      <th>Gender</th>\n",
       "      <th>Event</th>\n",
       "      <th>Event_gender</th>\n",
       "      <th>Medal</th>\n",
       "    </tr>\n",
       "  </thead>\n",
       "  <tbody>\n",
       "    <tr>\n",
       "      <th>0</th>\n",
       "      <td>HAJOS, Alfred</td>\n",
       "      <td>Athens</td>\n",
       "      <td>1896</td>\n",
       "      <td>Aquatics</td>\n",
       "      <td>Swimming</td>\n",
       "      <td>HUN</td>\n",
       "      <td>Men</td>\n",
       "      <td>100m freestyle</td>\n",
       "      <td>M</td>\n",
       "      <td>Gold</td>\n",
       "    </tr>\n",
       "    <tr>\n",
       "      <th>1</th>\n",
       "      <td>HERSCHMANN, Otto</td>\n",
       "      <td>Athens</td>\n",
       "      <td>1896</td>\n",
       "      <td>Aquatics</td>\n",
       "      <td>Swimming</td>\n",
       "      <td>AUT</td>\n",
       "      <td>Men</td>\n",
       "      <td>100m freestyle</td>\n",
       "      <td>M</td>\n",
       "      <td>Silver</td>\n",
       "    </tr>\n",
       "    <tr>\n",
       "      <th>2</th>\n",
       "      <td>DRIVAS, Dimitrios</td>\n",
       "      <td>Athens</td>\n",
       "      <td>1896</td>\n",
       "      <td>Aquatics</td>\n",
       "      <td>Swimming</td>\n",
       "      <td>GRE</td>\n",
       "      <td>Men</td>\n",
       "      <td>100m freestyle for sailors</td>\n",
       "      <td>M</td>\n",
       "      <td>Bronze</td>\n",
       "    </tr>\n",
       "    <tr>\n",
       "      <th>3</th>\n",
       "      <td>MALOKINIS, Ioannis</td>\n",
       "      <td>Athens</td>\n",
       "      <td>1896</td>\n",
       "      <td>Aquatics</td>\n",
       "      <td>Swimming</td>\n",
       "      <td>GRE</td>\n",
       "      <td>Men</td>\n",
       "      <td>100m freestyle for sailors</td>\n",
       "      <td>M</td>\n",
       "      <td>Gold</td>\n",
       "    </tr>\n",
       "    <tr>\n",
       "      <th>4</th>\n",
       "      <td>CHASAPIS, Spiridon</td>\n",
       "      <td>Athens</td>\n",
       "      <td>1896</td>\n",
       "      <td>Aquatics</td>\n",
       "      <td>Swimming</td>\n",
       "      <td>GRE</td>\n",
       "      <td>Men</td>\n",
       "      <td>100m freestyle for sailors</td>\n",
       "      <td>M</td>\n",
       "      <td>Silver</td>\n",
       "    </tr>\n",
       "  </tbody>\n",
       "</table>\n",
       "</div>"
      ],
      "text/plain": [
       "              Athlete    City  Edition     Sport Discipline  NOC Gender  \\\n",
       "0       HAJOS, Alfred  Athens     1896  Aquatics   Swimming  HUN    Men   \n",
       "1    HERSCHMANN, Otto  Athens     1896  Aquatics   Swimming  AUT    Men   \n",
       "2   DRIVAS, Dimitrios  Athens     1896  Aquatics   Swimming  GRE    Men   \n",
       "3  MALOKINIS, Ioannis  Athens     1896  Aquatics   Swimming  GRE    Men   \n",
       "4  CHASAPIS, Spiridon  Athens     1896  Aquatics   Swimming  GRE    Men   \n",
       "\n",
       "                        Event Event_gender   Medal  \n",
       "0              100m freestyle            M    Gold  \n",
       "1              100m freestyle            M  Silver  \n",
       "2  100m freestyle for sailors            M  Bronze  \n",
       "3  100m freestyle for sailors            M    Gold  \n",
       "4  100m freestyle for sailors            M  Silver  "
      ]
     },
     "execution_count": 238,
     "metadata": {},
     "output_type": "execute_result"
    }
   ],
   "source": [
    "df.head()"
   ]
  },
  {
   "cell_type": "markdown",
   "id": "45db3416-685e-468e-849a-1d12e7045cdc",
   "metadata": {},
   "source": [
    "#### *sort_index()*"
   ]
  },
  {
   "cell_type": "code",
   "execution_count": null,
   "id": "6183df25-e049-472b-be11-2dd1082c7d43",
   "metadata": {
    "tags": []
   },
   "outputs": [],
   "source": [
    "# The sort_index() method in pandas is used to sort a DataFrame or a Series by its index. \n",
    "# This method returns a new object with the same data but with the index sorted."
   ]
  },
  {
   "cell_type": "code",
   "execution_count": null,
   "id": "e98f5056-b7e0-4835-a6c6-29fb27ed8dc5",
   "metadata": {
    "tags": []
   },
   "outputs": [],
   "source": [
    "# If inplace=False (the default), a new DataFrame with the updated index would be returned, leaving the original DataFrame unchanged.\n",
    "df.set_index('Athlete',inplace=True)"
   ]
  },
  {
   "cell_type": "code",
   "execution_count": null,
   "id": "bbd46cb7-9d1d-4745-87ee-12292441f996",
   "metadata": {
    "tags": []
   },
   "outputs": [],
   "source": [
    "df.head()"
   ]
  },
  {
   "cell_type": "code",
   "execution_count": null,
   "id": "fe855ee2-c11d-42d0-b839-796385474085",
   "metadata": {
    "tags": []
   },
   "outputs": [],
   "source": [
    "df.sort_index(inplace=True,ascending=False)"
   ]
  },
  {
   "cell_type": "code",
   "execution_count": null,
   "id": "4d30f77d-b406-48f9-94dd-c68afb7285b4",
   "metadata": {
    "tags": []
   },
   "outputs": [],
   "source": [
    "df.head()"
   ]
  },
  {
   "cell_type": "code",
   "execution_count": null,
   "id": "b3540f29-9736-40ef-a10c-b0e159185d80",
   "metadata": {
    "tags": []
   },
   "outputs": [],
   "source": [
    "df.reset_index(inplace=True)"
   ]
  },
  {
   "cell_type": "code",
   "execution_count": null,
   "id": "a6006402-ab51-47ee-9f9d-f5a52193c95e",
   "metadata": {
    "tags": []
   },
   "outputs": [],
   "source": [
    "df.head()"
   ]
  },
  {
   "cell_type": "markdown",
   "id": "fd6e8f26-66f2-4672-a8d7-7d60f0c9489b",
   "metadata": {},
   "source": [
    "---------------------------------------------"
   ]
  },
  {
   "cell_type": "markdown",
   "id": "714b5fa3-c6b8-446b-925a-cf67b8b68ccf",
   "metadata": {},
   "source": [
    "### 14. how to use loc accessor?"
   ]
  },
  {
   "cell_type": "markdown",
   "id": "ccee4478-b601-4774-87de-80aec7233745",
   "metadata": {},
   "source": [
    "#### *.loc[]*"
   ]
  },
  {
   "cell_type": "code",
   "execution_count": null,
   "id": "907a9cbd-61d9-4744-ad4b-0849e768850a",
   "metadata": {
    "tags": []
   },
   "outputs": [],
   "source": [
    "# .loc is used for label-based indexing, allowing you to access a group of rows and # columns by specifying labels or boolean arrays. \n",
    "# It is primarily used to select data based on the labels of rows or columns."
   ]
  },
  {
   "cell_type": "code",
   "execution_count": null,
   "id": "3a26b584-de74-4a13-bac0-0825f8cc1d68",
   "metadata": {
    "tags": []
   },
   "outputs": [],
   "source": [
    "# .loc is inclusive on both sides, meaning that the start and stop labels specified are included in the selection.\n",
    "\n",
    "df.loc[df.Athlete == 'BOLT, Usain']"
   ]
  },
  {
   "cell_type": "markdown",
   "id": "cf0c8f46-996a-42c4-b631-53d1a78f54e1",
   "metadata": {},
   "source": [
    "### 15. how to use iloc accessor?"
   ]
  },
  {
   "cell_type": "markdown",
   "id": "ccd07632-fb20-4ca5-aca5-88501c044925",
   "metadata": {},
   "source": [
    "####  *iloc[]*"
   ]
  },
  {
   "cell_type": "code",
   "execution_count": null,
   "id": "46e1e174-1317-4d21-a32f-3a1ffe91175e",
   "metadata": {
    "tags": []
   },
   "outputs": [],
   "source": [
    "# The iloc accessor in pandas is used for integer-location based indexing. \n",
    "# It allows you to select data from a DataFrame based on the integer indices of rows and columns. "
   ]
  },
  {
   "cell_type": "code",
   "execution_count": null,
   "id": "5a5aa47d-9007-4770-b923-9061f7af6e1b",
   "metadata": {
    "tags": []
   },
   "outputs": [],
   "source": [
    "df.iloc[100]"
   ]
  },
  {
   "cell_type": "code",
   "execution_count": null,
   "id": "76de3ef2-69d3-4805-805d-40108622c3c0",
   "metadata": {
    "tags": []
   },
   "outputs": [],
   "source": [
    "df.iloc[[1245, 2201, 3430, 12000]]"
   ]
  },
  {
   "cell_type": "code",
   "execution_count": null,
   "id": "b752a162-8075-4254-b964-746da8fdb5a6",
   "metadata": {
    "tags": []
   },
   "outputs": [],
   "source": [
    "df.iloc[1:7]"
   ]
  },
  {
   "cell_type": "markdown",
   "id": "78319c3f-ec7b-4835-8dc5-18da4fc7f7bb",
   "metadata": {},
   "source": [
    "### 16. how to use groupby() function?"
   ]
  },
  {
   "cell_type": "markdown",
   "id": "9c4b69a0-71b2-4f25-9703-15aaab2185e2",
   "metadata": {
    "tags": []
   },
   "source": [
    "####  *groupby()*"
   ]
  },
  {
   "cell_type": "code",
   "execution_count": null,
   "id": "e338b9eb-f079-4ccd-9e35-f4d990887776",
   "metadata": {},
   "outputs": [],
   "source": [
    "# The groupby() function in pandas is used for grouping data based on some criteria, and it is followed \n",
    "# by an aggregation or transformation operation. \n",
    "\n",
    "# The basic idea is to split the data into groups based on a specified key and then apply a function to \n",
    "# each group independently. "
   ]
  },
  {
   "cell_type": "code",
   "execution_count": null,
   "id": "a7a6d412-a8d4-40fd-9267-5776b1ebabdb",
   "metadata": {
    "tags": []
   },
   "outputs": [],
   "source": [
    "list(df.groupby('Edition'))"
   ]
  },
  {
   "cell_type": "code",
   "execution_count": null,
   "id": "aaf39ed8-eaf1-4edf-9910-da5259651492",
   "metadata": {},
   "outputs": [],
   "source": [
    "# Aggregation with groupby()"
   ]
  },
  {
   "cell_type": "code",
   "execution_count": null,
   "id": "dce87d74-80e1-4727-8e68-c16ce710e4d7",
   "metadata": {
    "tags": []
   },
   "outputs": [],
   "source": [
    "df.groupby('Edition').size()"
   ]
  },
  {
   "cell_type": "code",
   "execution_count": null,
   "id": "723c6dc1-8ab8-4a9a-a761-5d55a8d67ec7",
   "metadata": {
    "tags": []
   },
   "outputs": [],
   "source": [
    "# min, max, and count"
   ]
  },
  {
   "cell_type": "code",
   "execution_count": null,
   "id": "33ba7386-b9eb-4589-806d-6412900b6d03",
   "metadata": {
    "tags": []
   },
   "outputs": [],
   "source": [
    "df.groupby(['Edition','NOC','Medal']).agg(['min','max','count'])"
   ]
  },
  {
   "cell_type": "code",
   "execution_count": null,
   "id": "c3ab8cc4-f61e-47ad-aa62-9156b2004d2a",
   "metadata": {
    "tags": []
   },
   "outputs": [],
   "source": [
    "df.groupby(['Edition','NOC','Medal']).size()"
   ]
  },
  {
   "cell_type": "code",
   "execution_count": null,
   "id": "57de946c-d902-4fc5-bcef-87e5c87192c0",
   "metadata": {
    "tags": []
   },
   "outputs": [],
   "source": [
    "df.groupby(['Edition','NOC','Medal']).agg({'Edition' :['min','max','count']})"
   ]
  },
  {
   "cell_type": "code",
   "execution_count": null,
   "id": "6048a083-8793-4578-9491-8fbbd47e1ab3",
   "metadata": {
    "tags": []
   },
   "outputs": [],
   "source": [
    "df.loc[df.Athlete == 'LEWIS, Carl'].groupby('Athlete').agg({'Edition' : ['min','max','count']})"
   ]
  },
  {
   "cell_type": "markdown",
   "id": "12d0ce1a-272a-44d5-bab9-8ee64e2e7fc6",
   "metadata": {},
   "source": [
    "### 17. how to use stack() function?"
   ]
  },
  {
   "cell_type": "markdown",
   "id": "5490ed80-98c5-4f7e-a325-4b7b30e867e3",
   "metadata": {},
   "source": [
    "####  *stack()*"
   ]
  },
  {
   "cell_type": "code",
   "execution_count": null,
   "id": "1414824f-d132-4c48-ab74-c4e607b04845",
   "metadata": {},
   "outputs": [],
   "source": [
    "# The stack() function is used to pivot the DataFrame, moving the innermost column index to become the innermost row index. \n",
    "# This operation is often called \"stacking\" because it stacks the specified level(s) from columns to index."
   ]
  },
  {
   "cell_type": "code",
   "execution_count": null,
   "id": "e4b7b0f0-6e62-4329-b77b-d5b2215a5ded",
   "metadata": {},
   "outputs": [],
   "source": [
    "# Athletes winning medals in Beijing Olympics 100m or 200m track event\n",
    "mw = df[(df.Edition == 2008) & ( (df.Event == '100m') | (df.Event == '200m'))]\n",
    "mw"
   ]
  },
  {
   "cell_type": "code",
   "execution_count": null,
   "id": "437c7f59-660a-41f3-8533-5108c54e7961",
   "metadata": {},
   "outputs": [],
   "source": [
    "g = mw.groupby(['NOC','Gender','Discipline','Event']).size()\n",
    "g"
   ]
  },
  {
   "cell_type": "code",
   "execution_count": null,
   "id": "64b0cf87-bb91-44d4-ad1e-aefd0f55a541",
   "metadata": {},
   "outputs": [],
   "source": [
    "dfs = g.unstack(['Discipline','Event'])\n",
    "dfs"
   ]
  },
  {
   "cell_type": "code",
   "execution_count": null,
   "id": "b07482e1-9ac6-400c-a440-4a6d286e8b54",
   "metadata": {},
   "outputs": [],
   "source": [
    "dfs"
   ]
  },
  {
   "cell_type": "code",
   "execution_count": null,
   "id": "03b0ff77-de56-476a-97a5-4e2700ce15ba",
   "metadata": {},
   "outputs": [],
   "source": [
    "dfs.stack()"
   ]
  },
  {
   "cell_type": "code",
   "execution_count": null,
   "id": "807c35c5-b7bd-4189-beba-af0558982c25",
   "metadata": {},
   "outputs": [],
   "source": [
    "dfs.stack('Event')"
   ]
  },
  {
   "cell_type": "markdown",
   "id": "3160e828-6773-4939-9e40-06fdc6981a61",
   "metadata": {},
   "source": [
    "### 18. how to use unstack() function?"
   ]
  },
  {
   "cell_type": "markdown",
   "id": "ec09f0c0-a6d0-4ade-967f-f29c96a5eeae",
   "metadata": {},
   "source": [
    "###  *unstack()*"
   ]
  },
  {
   "cell_type": "code",
   "execution_count": null,
   "id": "d52da5ae-7616-49ba-818a-60a823007b45",
   "metadata": {},
   "outputs": [],
   "source": [
    "dfs"
   ]
  },
  {
   "cell_type": "code",
   "execution_count": null,
   "id": "d155fc96-7682-4b08-8e75-d794fc2f2e81",
   "metadata": {},
   "outputs": [],
   "source": [
    "dfs.unstack()"
   ]
  },
  {
   "cell_type": "code",
   "execution_count": null,
   "id": "e2025990-182d-4e59-824c-78a31abc16f1",
   "metadata": {},
   "outputs": [],
   "source": []
  },
  {
   "cell_type": "code",
   "execution_count": null,
   "id": "8d308ff6-41cf-4408-a7ac-be407a1b5e48",
   "metadata": {},
   "outputs": [],
   "source": []
  },
  {
   "cell_type": "code",
   "execution_count": null,
   "id": "ccf23f8e-c9b9-45c1-9993-50baae53d420",
   "metadata": {},
   "outputs": [],
   "source": []
  },
  {
   "cell_type": "markdown",
   "id": "a3d77ebb-8add-4537-80b8-ce305644b4ee",
   "metadata": {},
   "source": [
    "#### Practice Questions"
   ]
  },
  {
   "cell_type": "markdown",
   "id": "bc78b294",
   "metadata": {},
   "source": [
    "##### Q1. List our Olympics DataFrame"
   ]
  },
  {
   "cell_type": "code",
   "execution_count": null,
   "id": "a030f257",
   "metadata": {},
   "outputs": [],
   "source": [
    "df = pd.read_csv('../data/olympics.csv',skiprows=4)"
   ]
  },
  {
   "cell_type": "code",
   "execution_count": null,
   "id": "3a23c236",
   "metadata": {},
   "outputs": [],
   "source": [
    "df"
   ]
  },
  {
   "cell_type": "markdown",
   "id": "310d0d62",
   "metadata": {},
   "source": [
    "##### Q2. List only the NOC column using both [`..`] and dot notation. What type is this object?"
   ]
  },
  {
   "cell_type": "code",
   "execution_count": null,
   "id": "42cbe5a6",
   "metadata": {},
   "outputs": [],
   "source": [
    "df['NOC']"
   ]
  },
  {
   "cell_type": "code",
   "execution_count": null,
   "id": "94399514",
   "metadata": {},
   "outputs": [],
   "source": [
    "df.NOC"
   ]
  },
  {
   "cell_type": "code",
   "execution_count": null,
   "id": "62228956",
   "metadata": {},
   "outputs": [],
   "source": [
    "type(df.NOC)"
   ]
  },
  {
   "cell_type": "markdown",
   "id": "bab3a6dc",
   "metadata": {},
   "source": [
    "##### Q3. List the Edition, City, Athlete Name, and Medal columns. What type is this object?"
   ]
  },
  {
   "cell_type": "code",
   "execution_count": null,
   "id": "45985b34",
   "metadata": {},
   "outputs": [],
   "source": [
    "type(df[['Edition', 'City', 'Athlete', 'Medal']])"
   ]
  },
  {
   "cell_type": "markdown",
   "id": "99aec9d3-4c70-468b-a334-cf98cd3d01b5",
   "metadata": {},
   "source": [
    "##### Q4. In which events did Jesse Owens win a medal?"
   ]
  },
  {
   "cell_type": "code",
   "execution_count": null,
   "id": "be0ec525-0cdb-43f7-9475-e62b3916663e",
   "metadata": {
    "tags": []
   },
   "outputs": [],
   "source": [
    "jo = df[df.Athlete == 'OWENS, Jesse']\n",
    "jo"
   ]
  },
  {
   "cell_type": "code",
   "execution_count": null,
   "id": "5584eb2b",
   "metadata": {},
   "outputs": [],
   "source": [
    "jo.Event.value_counts()"
   ]
  },
  {
   "cell_type": "markdown",
   "id": "7a2c8401-ed2b-4874-98a6-6b17f5776a44",
   "metadata": {},
   "source": [
    "##### Q5. Which country has won the most men's gold medals in singles badminton over the years? Sort the results alphabetically by the player's names."
   ]
  },
  {
   "cell_type": "code",
   "execution_count": null,
   "id": "a528c9b5-ff62-492a-895b-33da5e9b125b",
   "metadata": {
    "tags": []
   },
   "outputs": [],
   "source": [
    "gold_bm_men = df[(df.Medal == 'Gold') & (df.Gender == 'Men') & (df.Sport == 'Badminton')]\n",
    "gold_bm_men.sort_values(by='Athlete')"
   ]
  },
  {
   "cell_type": "markdown",
   "id": "c357e1f7-0126-4640-a8f7-6e6239550cda",
   "metadata": {},
   "source": [
    "##### Q6. Which three countries have won the most medals in recent years (from 1984 to 2008)?"
   ]
  },
  {
   "cell_type": "code",
   "execution_count": null,
   "id": "1c135ae3-dfe1-437c-b1f1-78421cddb416",
   "metadata": {
    "tags": []
   },
   "outputs": [],
   "source": [
    "rec = df[df.Edition >= 1984]\n",
    "rec.NOC.value_counts().head(3)"
   ]
  },
  {
   "cell_type": "markdown",
   "id": "1e947e09-c4cc-4573-8f1b-ed782888e1e1",
   "metadata": {},
   "source": [
    "##### Q7. Display the male gold medal winners for the 100m Track & Field sprint event over the years."
   ]
  },
  {
   "cell_type": "code",
   "execution_count": null,
   "id": "f781fcad-1498-419a-8592-ea93b1811bc4",
   "metadata": {
    "tags": []
   },
   "outputs": [],
   "source": [
    "gold_male_hm = df[(df.Gender == 'Men') & (df.Medal == 'Gold') & (df.Event == '100m')]"
   ]
  },
  {
   "cell_type": "markdown",
   "id": "16966053",
   "metadata": {},
   "source": [
    "##### Q8. Cont'd...List the results starting with the most recent. Show the Olympic City, Edition, Athlete and the country they represent."
   ]
  },
  {
   "cell_type": "code",
   "execution_count": null,
   "id": "cbc444c3-9e83-4a8a-b90f-0fec0ad64580",
   "metadata": {
    "tags": []
   },
   "outputs": [],
   "source": [
    "gold_male_hm.sort_values('Edition',ascending=False)[['City','Edition','Athlete','NOC']]"
   ]
  },
  {
   "cell_type": "markdown",
   "id": "449a6e45",
   "metadata": {},
   "source": [
    "##### Q9. Create a list showing the total number of medals won for each country over the history of the Olympics. For each country, include the year of the first and most recent Olympic medal wins."
   ]
  },
  {
   "cell_type": "code",
   "execution_count": null,
   "id": "1fa44004",
   "metadata": {},
   "outputs": [],
   "source": [
    "df.groupby('NOC').agg({'Edition' : ['count','min','max']})"
   ]
  },
  {
   "cell_type": "markdown",
   "id": "45c9b231-d1c0-43ab-908b-27102d637849",
   "metadata": {},
   "source": [
    "##### Q10. Athletes winning medals in Beijing Olympics 100m or 200m track event"
   ]
  },
  {
   "cell_type": "code",
   "execution_count": null,
   "id": "e25e66fc-d33f-4a51-9b85-f1cceb8e8b7a",
   "metadata": {
    "tags": []
   },
   "outputs": [],
   "source": [
    "bj_track_medals = df[(df.Edition == 2008) & ( (df.Event == '100m') | (df.Event == '200m'))]\n",
    "bj_track_medals"
   ]
  },
  {
   "cell_type": "markdown",
   "id": "a7795d22",
   "metadata": {},
   "source": [
    "### The End"
   ]
  },
  {
   "cell_type": "markdown",
   "id": "75fe4fc0-23cb-495e-9be9-c73a89f64bd2",
   "metadata": {},
   "source": [
    "----------------------------------------------------"
   ]
  }
 ],
 "metadata": {
  "kernelspec": {
   "display_name": "Python 3 (ipykernel)",
   "language": "python",
   "name": "python3"
  },
  "language_info": {
   "codemirror_mode": {
    "name": "ipython",
    "version": 3
   },
   "file_extension": ".py",
   "mimetype": "text/x-python",
   "name": "python",
   "nbconvert_exporter": "python",
   "pygments_lexer": "ipython3",
   "version": "3.12.2"
  }
 },
 "nbformat": 4,
 "nbformat_minor": 5
}
