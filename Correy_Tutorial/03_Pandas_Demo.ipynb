{
 "cells": [
  {
   "cell_type": "code",
   "execution_count": null,
   "metadata": {},
   "outputs": [],
   "source": [
    "import pandas as pd"
   ]
  },
  {
   "cell_type": "code",
   "execution_count": null,
   "metadata": {},
   "outputs": [],
   "source": [
    "# The 'Respondent' column will serve as the index for the DataFrame, allowing for easy access and \n",
    "# manipulation of the data.\n",
    "\n",
    "df = pd.read_csv('data/survey_results_public.csv', index_col='Respondent')\n",
    "schema_df = pd.read_csv('data/survey_results_schema.csv', index_col='Column')"
   ]
  },
  {
   "cell_type": "code",
   "execution_count": null,
   "metadata": {
    "tags": []
   },
   "outputs": [],
   "source": [
    "df.head()"
   ]
  },
  {
   "cell_type": "code",
   "execution_count": null,
   "metadata": {
    "tags": []
   },
   "outputs": [],
   "source": [
    "schema_df"
   ]
  },
  {
   "cell_type": "markdown",
   "metadata": {},
   "source": [
    "pd.set_option('display.max_columns', 85)\n",
    "pd.set_option('display.max_rows', 85)"
   ]
  },
  {
   "cell_type": "code",
   "execution_count": null,
   "metadata": {},
   "outputs": [],
   "source": [
    "df.head()"
   ]
  },
  {
   "cell_type": "code",
   "execution_count": null,
   "metadata": {},
   "outputs": [],
   "source": [
    "schema_df"
   ]
  },
  {
   "cell_type": "code",
   "execution_count": null,
   "metadata": {
    "tags": []
   },
   "outputs": [],
   "source": [
    "# With the pd.set_option('display.max_columns', 85) line, only the first 85 columns will be displayed, \n",
    "# and the rest will be truncated.\n",
    "\n",
    "# Same is the true for ('display.max.rows', 85)\n",
    "\n",
    "pd.set_option('display.max_columns', 85)\n",
    "pd.set_option('display.max_rows', 85)"
   ]
  },
  {
   "cell_type": "code",
   "execution_count": null,
   "metadata": {
    "tags": []
   },
   "outputs": [],
   "source": [
    "schema_df"
   ]
  },
  {
   "cell_type": "code",
   "execution_count": null,
   "metadata": {},
   "outputs": [],
   "source": [
    "# .loc[]: This is a method used for label-based indexing in pandas DataFrames. It allows you to specify both the row and column labels to access specific data.\n",
    "\n",
    "# 'MgrIdiot': Label to specify the row you want to access. In this case, you're looking for the row with the index 'MgrIdiot'.\n",
    "\n",
    "# 'QuestionText': This is the label for the column you want to retrieve data from. Specifically, you're interested in the 'QuestionText' column.\n",
    "\n",
    "# It will return the value in the 'QuestionText' column for the row with the index 'MgrIdiot'. This is typically used to access the description or meaning of a specific column in a dataset or schema.\n",
    "\n",
    "schema_df.loc['MgrIdiot', 'QuestionText']"
   ]
  },
  {
   "cell_type": "code",
   "execution_count": null,
   "metadata": {},
   "outputs": [],
   "source": [
    "# .sort_index() is used to sort the rows based on the index (row labels) of the DataFrame. By default, it sorts the rows in ascending order.\n",
    "\n",
    "# inplace=True specifies that the sorting operation should be applied directly to the original DataFrame (schema_df) rather than returning a new sorted DataFrame. \n",
    "# When inplace=True, it modifies the DataFrame in place.\n",
    "\n",
    "schema_df.sort_index(inplace=True)"
   ]
  },
  {
   "cell_type": "code",
   "execution_count": null,
   "metadata": {},
   "outputs": [],
   "source": [
    "schema_df"
   ]
  }
 ],
 "metadata": {
  "kernelspec": {
   "display_name": "Python 3 (ipykernel)",
   "language": "python",
   "name": "python3"
  },
  "language_info": {
   "codemirror_mode": {
    "name": "ipython",
    "version": 3
   },
   "file_extension": ".py",
   "mimetype": "text/x-python",
   "name": "python",
   "nbconvert_exporter": "python",
   "pygments_lexer": "ipython3",
   "version": "3.12.3"
  }
 },
 "nbformat": 4,
 "nbformat_minor": 4
}
