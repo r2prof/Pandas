{
 "cells": [
  {
   "cell_type": "code",
   "execution_count": 1,
   "metadata": {
    "tags": []
   },
   "outputs": [],
   "source": [
    "people = {\n",
    "    \"first\": [\"Corey\", 'Jane', 'John'], \n",
    "    \"last\": [\"Schafer\", 'Doe', 'Doe'], \n",
    "    \"email\": [\"CoreyMSchafer@gmail.com\", 'JaneDoe@email.com', 'JohnDoe@email.com']\n",
    "}"
   ]
  },
  {
   "cell_type": "code",
   "execution_count": 3,
   "metadata": {
    "tags": []
   },
   "outputs": [],
   "source": [
    "import pandas as pd"
   ]
  },
  {
   "cell_type": "code",
   "execution_count": 4,
   "metadata": {
    "tags": []
   },
   "outputs": [],
   "source": [
    "df = pd.DataFrame(people)"
   ]
  },
  {
   "cell_type": "code",
   "execution_count": null,
   "metadata": {
    "tags": []
   },
   "outputs": [],
   "source": [
    "df"
   ]
  },
  {
   "cell_type": "code",
   "execution_count": null,
   "metadata": {},
   "outputs": [],
   "source": [
    "# We want to filter the data with cols with string value of 'Doe', but we get the output in boolean form\n",
    "df['last'] == 'Doe'"
   ]
  },
  {
   "cell_type": "code",
   "execution_count": 25,
   "metadata": {
    "tags": []
   },
   "outputs": [],
   "source": [
    "# The code filt = (df['last'] == 'Schafer') | (df['first'] == 'John') is used to create a filter filt for a DataFrame df \n",
    "# based on a logical condition.\n",
    "\n",
    "# df: This is the DataFrame you're working with.\n",
    "\n",
    "# df['last'] == 'Schafer': This part of the code checks if the 'last' column of the DataFrame df contains the value 'Schafer' for each row. \n",
    "# It returns a Boolean Series where each element is True if the 'last' column contains 'Schafer' for that row, and False otherwise.\n",
    "\n",
    "# df['first'] == 'John': This part of the code checks if the 'first' column of the DataFrame df contains the value 'John' for each row. \n",
    "# It returns another Boolean Series with the same length as the DataFrame.\n",
    "\n",
    "# | (pipe operator): This is the logical OR operator. It combines the two Boolean Series created in the previous steps element-wise \n",
    "# with a logical OR operation. \n",
    "\n",
    "# If either condition is True for a given row, the result will be True in the combined Series.\n",
    "\n",
    "filt = (df['last'] == 'Schafer') | (df['first'] == 'John')"
   ]
  },
  {
   "cell_type": "code",
   "execution_count": null,
   "metadata": {
    "tags": []
   },
   "outputs": [],
   "source": [
    "filt"
   ]
  },
  {
   "cell_type": "code",
   "execution_count": null,
   "metadata": {},
   "outputs": [],
   "source": [
    "# This gives a data frame\n",
    "\n",
    "df[filt]"
   ]
  },
  {
   "cell_type": "code",
   "execution_count": null,
   "metadata": {},
   "outputs": [],
   "source": [
    "df.loc[filt, 'email']"
   ]
  },
  {
   "cell_type": "code",
   "execution_count": null,
   "metadata": {
    "tags": []
   },
   "outputs": [],
   "source": [
    "# The code df.loc[~filt, 'email'] is used to select and retrieve values from the 'email' column of the DataFrame df, but only for \n",
    "# rows that do not satisfy the condition specified in the filt filter.\n",
    "\n",
    "# df: This is the DataFrame you're working with.\n",
    "\n",
    "# .loc[]: This is a method used to access specific rows and columns in a DataFrame.\n",
    "\n",
    "# ~filt: The tilde (~) operator is used as a logical NOT operator. It negates the values in the filt filter. \n",
    "\n",
    "# In other words, it selects rows where the condition in filt is NOT True.\n",
    "\n",
    "# 'email': This specifies the column ('email') from which you want to retrieve values.\n",
    "\n",
    "df.loc[~filt, 'email']"
   ]
  }
 ],
 "metadata": {
  "kernelspec": {
   "display_name": "Python 3 (ipykernel)",
   "language": "python",
   "name": "python3"
  },
  "language_info": {
   "codemirror_mode": {
    "name": "ipython",
    "version": 3
   },
   "file_extension": ".py",
   "mimetype": "text/x-python",
   "name": "python",
   "nbconvert_exporter": "python",
   "pygments_lexer": "ipython3",
   "version": "3.12.2"
  }
 },
 "nbformat": 4,
 "nbformat_minor": 4
}
