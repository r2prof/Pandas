{
 "cells": [
  {
   "cell_type": "code",
   "execution_count": 1,
   "metadata": {
    "tags": []
   },
   "outputs": [],
   "source": [
    "import pandas as pd"
   ]
  },
  {
   "cell_type": "code",
   "execution_count": 2,
   "metadata": {
    "tags": []
   },
   "outputs": [],
   "source": [
    "df = pd.read_csv('data/survey_results_public.csv', index_col='Respondent')\n",
    "schema_df = pd.read_csv('data/survey_results_schema.csv', index_col='Column')"
   ]
  },
  {
   "cell_type": "code",
   "execution_count": 3,
   "metadata": {
    "tags": []
   },
   "outputs": [],
   "source": [
    "pd.set_option('display.max_columns', 85)\n",
    "pd.set_option('display.max_rows', 85)"
   ]
  },
  {
   "cell_type": "code",
   "execution_count": null,
   "metadata": {
    "scrolled": true,
    "tags": []
   },
   "outputs": [],
   "source": [
    "df.head(3)"
   ]
  },
  {
   "cell_type": "code",
   "execution_count": 6,
   "metadata": {},
   "outputs": [],
   "source": [
    "high_salary = (df['ConvertedComp'] > 70000)"
   ]
  },
  {
   "cell_type": "code",
   "execution_count": null,
   "metadata": {},
   "outputs": [],
   "source": [
    "df.loc[high_salary]"
   ]
  },
  {
   "cell_type": "code",
   "execution_count": null,
   "metadata": {},
   "outputs": [],
   "source": [
    "df.loc[high_salary, ['Country', 'ConvertedComp', 'LanguageWorkedWith']]"
   ]
  },
  {
   "cell_type": "code",
   "execution_count": 14,
   "metadata": {},
   "outputs": [],
   "source": [
    "# Using countries as filter\n",
    "\n",
    "# We will create a list of countries and then pass this as filter on the dateset with the name of column i.e. Country\n",
    "\n",
    "countries = ['United States', 'India', 'United Kingdom', 'Germany', 'Canada']"
   ]
  },
  {
   "cell_type": "code",
   "execution_count": 15,
   "metadata": {},
   "outputs": [],
   "source": [
    "filt = df['Country'].isin(countries)"
   ]
  },
  {
   "cell_type": "code",
   "execution_count": null,
   "metadata": {},
   "outputs": [],
   "source": [
    "df.loc[filt, 'Country']"
   ]
  },
  {
   "cell_type": "code",
   "execution_count": 18,
   "metadata": {
    "tags": []
   },
   "outputs": [],
   "source": [
    "# df: This is the DataFrame you've been working with.\n",
    "\n",
    "# ['LanguageWorkedWith'] accesses the 'LanguageWorkedWith' column in the DataFrame df. \n",
    "# It assumes that this column contains strings or text data.\n",
    "\n",
    "# .str.contains('Python', na=False): This is a method applied to the elements of the 'LanguageWorkedWith' column \n",
    "# using .str, which is used for string operations on Series (columns containing text data).\n",
    "\n",
    "# contains('Python'): This method checks if each element in the 'LanguageWorkedWith' column contains the substring 'Python'. \n",
    "\n",
    "# It returns a Boolean Series where each element is True if the corresponding element in the 'LanguageWorkedWith' column \n",
    "# contains 'Python', and False otherwise.\n",
    "\n",
    "# na=False is used to specify how missing values (NaN) should be treated. \n",
    "\n",
    "# In this case, na=False means that missing values will be treated as False, indicating that they do not contain 'Python'.\n",
    "\n",
    "# The resulting filter Series will contain True for rows where the 'LanguageWorkedWith' column contains 'Python' and False \n",
    "# for rows where it does not. \n",
    "\n",
    "# This Series can then be used as a filter to select specific rows from the DataFrame df where the condition is True.\n",
    "\n",
    "filter = df['LanguageWorkedWith'].str.contains('Python', na=False)"
   ]
  },
  {
   "cell_type": "code",
   "execution_count": null,
   "metadata": {
    "tags": []
   },
   "outputs": [],
   "source": [
    "filter"
   ]
  },
  {
   "cell_type": "code",
   "execution_count": null,
   "metadata": {
    "tags": []
   },
   "outputs": [],
   "source": [
    "# filter is a Boolean Series that was created to filter rows where the 'LanguageWorkedWith' column contains the substring 'Python'. \n",
    "\n",
    "# When you execute df.loc[filter], it will return a new DataFrame containing only the rows where the condition in the filter is True.\n",
    "\n",
    "df.loc[filter]"
   ]
  }
 ],
 "metadata": {
  "kernelspec": {
   "display_name": "Python 3 (ipykernel)",
   "language": "python",
   "name": "python3"
  },
  "language_info": {
   "codemirror_mode": {
    "name": "ipython",
    "version": 3
   },
   "file_extension": ".py",
   "mimetype": "text/x-python",
   "name": "python",
   "nbconvert_exporter": "python",
   "pygments_lexer": "ipython3",
   "version": "3.12.2"
  }
 },
 "nbformat": 4,
 "nbformat_minor": 4
}
