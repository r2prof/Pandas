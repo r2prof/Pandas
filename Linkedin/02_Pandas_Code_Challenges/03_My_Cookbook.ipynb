{
 "cells": [
  {
   "cell_type": "markdown",
   "id": "17f8a25c",
   "metadata": {},
   "source": [
    "## 03 - My Cookbook"
   ]
  },
  {
   "cell_type": "markdown",
   "id": "5128983f-da5b-4342-b2a6-317a95930ee3",
   "metadata": {},
   "source": [
    "### Data Cleaning"
   ]
  },
  {
   "cell_type": "code",
   "execution_count": 1,
   "id": "604af38a",
   "metadata": {},
   "outputs": [],
   "source": [
    "import pandas as pd\n",
    "import numpy as np"
   ]
  },
  {
   "cell_type": "markdown",
   "id": "f265e931",
   "metadata": {},
   "source": [
    "### Checking and handling missing values in the data"
   ]
  },
  {
   "cell_type": "code",
   "execution_count": 2,
   "id": "8e197fd2",
   "metadata": {},
   "outputs": [
    {
     "data": {
      "text/html": [
       "<div>\n",
       "<style scoped>\n",
       "    .dataframe tbody tr th:only-of-type {\n",
       "        vertical-align: middle;\n",
       "    }\n",
       "\n",
       "    .dataframe tbody tr th {\n",
       "        vertical-align: top;\n",
       "    }\n",
       "\n",
       "    .dataframe thead th {\n",
       "        text-align: right;\n",
       "    }\n",
       "</style>\n",
       "<table border=\"1\" class=\"dataframe\">\n",
       "  <thead>\n",
       "    <tr style=\"text-align: right;\">\n",
       "      <th></th>\n",
       "      <th>id</th>\n",
       "      <th>date</th>\n",
       "      <th>time</th>\n",
       "      <th>country_name</th>\n",
       "      <th>state/province</th>\n",
       "      <th>population</th>\n",
       "      <th>landslide_type</th>\n",
       "      <th>trigger</th>\n",
       "      <th>fatalities</th>\n",
       "    </tr>\n",
       "  </thead>\n",
       "  <tbody>\n",
       "    <tr>\n",
       "      <th>0</th>\n",
       "      <td>34</td>\n",
       "      <td>3/2/07</td>\n",
       "      <td>Night</td>\n",
       "      <td>United States</td>\n",
       "      <td>Virginia</td>\n",
       "      <td>16000</td>\n",
       "      <td>Landslide</td>\n",
       "      <td>Rain</td>\n",
       "      <td>NaN</td>\n",
       "    </tr>\n",
       "    <tr>\n",
       "      <th>1</th>\n",
       "      <td>42</td>\n",
       "      <td>3/22/07</td>\n",
       "      <td>NaN</td>\n",
       "      <td>United States</td>\n",
       "      <td>Ohio</td>\n",
       "      <td>17288</td>\n",
       "      <td>Landslide</td>\n",
       "      <td>Rain</td>\n",
       "      <td>NaN</td>\n",
       "    </tr>\n",
       "    <tr>\n",
       "      <th>2</th>\n",
       "      <td>56</td>\n",
       "      <td>4/6/07</td>\n",
       "      <td>NaN</td>\n",
       "      <td>United States</td>\n",
       "      <td>Pennsylvania</td>\n",
       "      <td>15930</td>\n",
       "      <td>Landslide</td>\n",
       "      <td>Rain</td>\n",
       "      <td>NaN</td>\n",
       "    </tr>\n",
       "    <tr>\n",
       "      <th>3</th>\n",
       "      <td>59</td>\n",
       "      <td>4/14/07</td>\n",
       "      <td>NaN</td>\n",
       "      <td>Canada</td>\n",
       "      <td>Quebec</td>\n",
       "      <td>42786</td>\n",
       "      <td>Riverbank collapse</td>\n",
       "      <td>Rain</td>\n",
       "      <td>NaN</td>\n",
       "    </tr>\n",
       "    <tr>\n",
       "      <th>4</th>\n",
       "      <td>61</td>\n",
       "      <td>4/15/07</td>\n",
       "      <td>NaN</td>\n",
       "      <td>United States</td>\n",
       "      <td>Kentucky</td>\n",
       "      <td>6903</td>\n",
       "      <td>Landslide</td>\n",
       "      <td>Downpour</td>\n",
       "      <td>0.0</td>\n",
       "    </tr>\n",
       "  </tbody>\n",
       "</table>\n",
       "</div>"
      ],
      "text/plain": [
       "   id     date   time   country_name state/province  population  \\\n",
       "0  34   3/2/07  Night  United States       Virginia       16000   \n",
       "1  42  3/22/07    NaN  United States           Ohio       17288   \n",
       "2  56   4/6/07    NaN  United States   Pennsylvania       15930   \n",
       "3  59  4/14/07    NaN         Canada         Quebec       42786   \n",
       "4  61  4/15/07    NaN  United States       Kentucky        6903   \n",
       "\n",
       "       landslide_type   trigger  fatalities  \n",
       "0           Landslide      Rain         NaN  \n",
       "1           Landslide      Rain         NaN  \n",
       "2           Landslide      Rain         NaN  \n",
       "3  Riverbank collapse      Rain         NaN  \n",
       "4           Landslide  Downpour         0.0  "
      ]
     },
     "execution_count": 2,
     "metadata": {},
     "output_type": "execute_result"
    }
   ],
   "source": [
    "df = pd.read_csv(\"./data/landslides.csv\")\n",
    "df.head()"
   ]
  },
  {
   "cell_type": "code",
   "execution_count": null,
   "id": "2a6ae263",
   "metadata": {},
   "outputs": [],
   "source": [
    "df.info()"
   ]
  },
  {
   "cell_type": "code",
   "execution_count": null,
   "id": "e5a2ebab",
   "metadata": {},
   "outputs": [],
   "source": [
    "df.describe()"
   ]
  },
  {
   "cell_type": "markdown",
   "id": "65966b0f",
   "metadata": {},
   "source": [
    "### Handling missing values in the data\n",
    "\n",
    "- Drop rows where you have missing values in the date column.\n",
    "- Fill missing values with specific values\n",
    "- Fill automatic"
   ]
  },
  {
   "cell_type": "code",
   "execution_count": null,
   "id": "3db42c95",
   "metadata": {},
   "outputs": [],
   "source": [
    "# This code is with the Pandas library to count the number of missing (NaN or None) values in each column of a dataframe.\n",
    "\n",
    "df.isna().sum()"
   ]
  },
  {
   "cell_type": "code",
   "execution_count": null,
   "id": "52e5b11a",
   "metadata": {},
   "outputs": [],
   "source": [
    "# The code df = df[~df['date'].isnull()] is used to filter a Pandas DataFrame (df) to remove rows where the 'date' \n",
    "# column has missing (NaN) values.\n",
    "\n",
    "# ~df['date'].isnull(): The ~ operator is used to negate the Boolean mask. So, now it will be True for rows where \n",
    "# 'date' is not NaN and False for rows where 'date' is NaN.\n",
    "\n",
    "df = df[~df['date'].isnull()]\n",
    "df"
   ]
  },
  {
   "cell_type": "code",
   "execution_count": null,
   "id": "a399ce57",
   "metadata": {},
   "outputs": [],
   "source": [
    "df.isna().sum()"
   ]
  },
  {
   "cell_type": "code",
   "execution_count": null,
   "id": "6701b891",
   "metadata": {},
   "outputs": [],
   "source": [
    "df['time'] = df['time'].fillna(\"Not known!\")"
   ]
  },
  {
   "cell_type": "code",
   "execution_count": null,
   "id": "ec9800ee",
   "metadata": {},
   "outputs": [],
   "source": [
    "df"
   ]
  },
  {
   "cell_type": "code",
   "execution_count": null,
   "id": "c140019d",
   "metadata": {},
   "outputs": [],
   "source": [
    "df['time'].value_counts()"
   ]
  },
  {
   "cell_type": "code",
   "execution_count": null,
   "id": "d4d0c256-5a36-4b0c-93c2-02cbffbc3eaf",
   "metadata": {
    "tags": []
   },
   "outputs": [],
   "source": [
    "df['date'].isna().sum()"
   ]
  },
  {
   "cell_type": "code",
   "execution_count": null,
   "id": "1f8c08c1",
   "metadata": {},
   "outputs": [],
   "source": [
    "df['fatalities'].isna().sum()"
   ]
  },
  {
   "cell_type": "code",
   "execution_count": null,
   "id": "c96a77f4",
   "metadata": {},
   "outputs": [],
   "source": [
    "df['fatalities'].plot();"
   ]
  },
  {
   "cell_type": "code",
   "execution_count": null,
   "id": "38d21854",
   "metadata": {},
   "outputs": [],
   "source": [
    "mean = df['fatalities'].mean()\n",
    "mean"
   ]
  },
  {
   "cell_type": "code",
   "execution_count": null,
   "id": "4fa566af-d7a0-4a5e-a7ac-1853f9659156",
   "metadata": {
    "tags": []
   },
   "outputs": [],
   "source": [
    "df['fatalities'].isna().sum()"
   ]
  },
  {
   "cell_type": "markdown",
   "id": "69ee3a56",
   "metadata": {},
   "source": [
    "### Parse dates \n",
    "- Convert our date columns to datetime\n",
    "- extract month from the date\n",
    "- Plot a histogram to show the number of landslides in every month"
   ]
  },
  {
   "cell_type": "code",
   "execution_count": null,
   "id": "d24bd957",
   "metadata": {},
   "outputs": [],
   "source": [
    "df.info()"
   ]
  },
  {
   "cell_type": "code",
   "execution_count": null,
   "id": "35dfb66c",
   "metadata": {},
   "outputs": [],
   "source": [
    "# Create a new column, date_parsed, with the parsed dates\n",
    "\n",
    "df['date_parsed'] = pd.to_datetime(df['date'], format=\"%m/%d/%y\")"
   ]
  },
  {
   "cell_type": "code",
   "execution_count": null,
   "id": "35d75868-5acf-4da3-9f52-11e087ff9252",
   "metadata": {
    "tags": []
   },
   "outputs": [],
   "source": [
    "df['date_parsed']"
   ]
  },
  {
   "cell_type": "code",
   "execution_count": null,
   "id": "289c3ece",
   "metadata": {},
   "outputs": [],
   "source": [
    "df['date_parsed'].head()"
   ]
  },
  {
   "cell_type": "code",
   "execution_count": null,
   "id": "24825e2c-55e8-438e-90b9-5beabcbf2ff0",
   "metadata": {
    "tags": []
   },
   "outputs": [],
   "source": [
    "df.info()"
   ]
  },
  {
   "cell_type": "code",
   "execution_count": null,
   "id": "93a75e56",
   "metadata": {},
   "outputs": [],
   "source": [
    "# Get the day of the month from the date_parsed column\n",
    "month_of_landslides = df['date_parsed'].dt.month\n",
    "\n",
    "month_of_landslides.head()\n"
   ]
  },
  {
   "cell_type": "code",
   "execution_count": null,
   "id": "51516133-da1c-4b76-a968-17318106f52d",
   "metadata": {
    "tags": []
   },
   "outputs": [],
   "source": [
    "month_of_landslides"
   ]
  },
  {
   "cell_type": "code",
   "execution_count": null,
   "id": "e1fa7182",
   "metadata": {},
   "outputs": [],
   "source": [
    "import seaborn as sns\n",
    "\n",
    "# Bofore we plot we need to remove na's\n",
    "month_of_landslides = month_of_landslides.dropna()\n"
   ]
  },
  {
   "cell_type": "code",
   "execution_count": null,
   "id": "2c344d97-730e-4cf0-bcaf-570498e3ddc8",
   "metadata": {
    "tags": []
   },
   "outputs": [],
   "source": [
    "# sns.distplot(): This function from Seaborn is used to create a distribution plot, which can include a histogram and \n",
    "# a kernel density estimate (KDE) by default.\n",
    "\n",
    "# month_of_landslides: This is assumed to be a variable or a Pandas Series that contains the data you want to visualize.\n",
    "\n",
    "# kde=False: This argument specifies that you do not want to include the kernel density estimate in the plot. If you set \n",
    "# kde=True, it would include a smoothed curve representing the estimated probability density function.\n",
    "\n",
    "# bins=12: This argument specifies the number of bins to use for the histogram. In this case, it's set to 12, meaning the \n",
    "# data will be divided into 12 intervals, and the histogram will show the distribution of data points across these intervals.\n",
    "\n",
    "# Plot the day of the month\n",
    "sns.distplot(month_of_landslides, kde=False, bins=12);\n"
   ]
  },
  {
   "cell_type": "markdown",
   "id": "0427f73c",
   "metadata": {},
   "source": [
    "### Correcting the data format"
   ]
  },
  {
   "cell_type": "code",
   "execution_count": null,
   "id": "2bb85bf9",
   "metadata": {},
   "outputs": [],
   "source": [
    "df"
   ]
  },
  {
   "cell_type": "code",
   "execution_count": null,
   "id": "7a6f88bc",
   "metadata": {},
   "outputs": [],
   "source": [
    "df['time'].value_counts()[0:10]"
   ]
  },
  {
   "cell_type": "code",
   "execution_count": null,
   "id": "aa6f382f",
   "metadata": {},
   "outputs": [],
   "source": [
    "def format_time(x):\n",
    "    if ':' in x.lower():\n",
    "        if int(x.split(':')[0]) >= 12 and int(x.split(':')[0]) < 18:\n",
    "            x = \"Afternoon\"\n",
    "        elif int(x.split(':')[0]) < 12:\n",
    "            x = \"Morning\"\n",
    "        elif int(x.split(':')[0]) >= 18:\n",
    "            x = \"Night\"\n",
    "    \n",
    "\n",
    "    return x"
   ]
  },
  {
   "cell_type": "code",
   "execution_count": null,
   "id": "bdde8575",
   "metadata": {},
   "outputs": [],
   "source": [
    "def format_time(x):\n",
    "    if ':' in x.lower():\n",
    "        if int(x.split(':')[0]) >= 12 and int(x.split(':')[0]) < 18:\n",
    "            x = \"Afternoon\"\n",
    "        elif int(x.split(':')[0]) < 12:\n",
    "            x = \"Morning\"\n",
    "        elif int(x.split(':')[0]) >= 18:\n",
    "            x = \"Night\"\n",
    "    elif 'evening' in x.lower():\n",
    "        x = \"Evening\"\n",
    "    elif 'morning' in x.lower() or 'dawn' in x.lower():\n",
    "        x = \"Morning\"\n",
    "    elif 'afternoon' in x.lower():\n",
    "        x = \"Afternoon\"\n",
    "    elif 'night' in x.lower():\n",
    "        x = \"Night\"\n",
    "    else:\n",
    "        x = \"Not Known!\"\n",
    "    return x"
   ]
  },
  {
   "cell_type": "code",
   "execution_count": null,
   "id": "4b731ea2",
   "metadata": {},
   "outputs": [],
   "source": [
    "df['time'] = df['time'].apply(format_time)"
   ]
  },
  {
   "cell_type": "code",
   "execution_count": null,
   "id": "d63c1aa3",
   "metadata": {},
   "outputs": [],
   "source": [
    "df['time'].value_counts()"
   ]
  },
  {
   "cell_type": "code",
   "execution_count": null,
   "id": "b2f7edf4-b386-4e15-8c41-b95875d4defb",
   "metadata": {
    "tags": []
   },
   "outputs": [],
   "source": [
    "df"
   ]
  },
  {
   "cell_type": "code",
   "execution_count": null,
   "id": "c845bba1-1f17-4dfc-af19-8d1cc39796bd",
   "metadata": {},
   "outputs": [],
   "source": []
  }
 ],
 "metadata": {
  "kernelspec": {
   "display_name": "Python 3 (ipykernel)",
   "language": "python",
   "name": "python3"
  },
  "language_info": {
   "codemirror_mode": {
    "name": "ipython",
    "version": 3
   },
   "file_extension": ".py",
   "mimetype": "text/x-python",
   "name": "python",
   "nbconvert_exporter": "python",
   "pygments_lexer": "ipython3",
   "version": "3.11.5"
  }
 },
 "nbformat": 4,
 "nbformat_minor": 5
}
